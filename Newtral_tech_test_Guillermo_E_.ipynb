{
  "nbformat": 4,
  "nbformat_minor": 0,
  "metadata": {
    "colab": {
      "name": "Newtral tech test - Guillermo E..ipynb",
      "provenance": [],
      "collapsed_sections": []
    },
    "kernelspec": {
      "name": "python3",
      "display_name": "Python 3"
    },
    "language_info": {
      "name": "python"
    },
    "accelerator": "GPU",
    "widgets": {
      "application/vnd.jupyter.widget-state+json": {
        "0e1d23bce2914f7baff1a40177dee8bb": {
          "model_module": "@jupyter-widgets/controls",
          "model_name": "HBoxModel",
          "model_module_version": "1.5.0",
          "state": {
            "_view_name": "HBoxView",
            "_dom_classes": [],
            "_model_name": "HBoxModel",
            "_view_module": "@jupyter-widgets/controls",
            "_model_module_version": "1.5.0",
            "_view_count": null,
            "_view_module_version": "1.5.0",
            "box_style": "",
            "layout": "IPY_MODEL_46ba7a1fdc5146a296b7a783564b034d",
            "_model_module": "@jupyter-widgets/controls",
            "children": [
              "IPY_MODEL_a372164adaef4bae85467dba500e05d6",
              "IPY_MODEL_b07f1ea16c9248dfaf47ba798e36387e",
              "IPY_MODEL_3e595d39fb634c939c63f16d02d00ede"
            ]
          }
        },
        "46ba7a1fdc5146a296b7a783564b034d": {
          "model_module": "@jupyter-widgets/base",
          "model_name": "LayoutModel",
          "model_module_version": "1.2.0",
          "state": {
            "_view_name": "LayoutView",
            "grid_template_rows": null,
            "right": null,
            "justify_content": null,
            "_view_module": "@jupyter-widgets/base",
            "overflow": null,
            "_model_module_version": "1.2.0",
            "_view_count": null,
            "flex_flow": null,
            "width": null,
            "min_width": null,
            "border": null,
            "align_items": null,
            "bottom": null,
            "_model_module": "@jupyter-widgets/base",
            "top": null,
            "grid_column": null,
            "overflow_y": null,
            "overflow_x": null,
            "grid_auto_flow": null,
            "grid_area": null,
            "grid_template_columns": null,
            "flex": null,
            "_model_name": "LayoutModel",
            "justify_items": null,
            "grid_row": null,
            "max_height": null,
            "align_content": null,
            "visibility": null,
            "align_self": null,
            "height": null,
            "min_height": null,
            "padding": null,
            "grid_auto_rows": null,
            "grid_gap": null,
            "max_width": null,
            "order": null,
            "_view_module_version": "1.2.0",
            "grid_template_areas": null,
            "object_position": null,
            "object_fit": null,
            "grid_auto_columns": null,
            "margin": null,
            "display": null,
            "left": null
          }
        },
        "a372164adaef4bae85467dba500e05d6": {
          "model_module": "@jupyter-widgets/controls",
          "model_name": "HTMLModel",
          "model_module_version": "1.5.0",
          "state": {
            "_view_name": "HTMLView",
            "style": "IPY_MODEL_7992ba985a0c45f385bdd2a2b9f0d10a",
            "_dom_classes": [],
            "description": "",
            "_model_name": "HTMLModel",
            "placeholder": "​",
            "_view_module": "@jupyter-widgets/controls",
            "_model_module_version": "1.5.0",
            "value": "Downloading: 100%",
            "_view_count": null,
            "_view_module_version": "1.5.0",
            "description_tooltip": null,
            "_model_module": "@jupyter-widgets/controls",
            "layout": "IPY_MODEL_8f92e8307d614f248d5ee5e8caf92497"
          }
        },
        "b07f1ea16c9248dfaf47ba798e36387e": {
          "model_module": "@jupyter-widgets/controls",
          "model_name": "FloatProgressModel",
          "model_module_version": "1.5.0",
          "state": {
            "_view_name": "ProgressView",
            "style": "IPY_MODEL_20772c158c624001b995dfaa590f4df5",
            "_dom_classes": [],
            "description": "",
            "_model_name": "FloatProgressModel",
            "bar_style": "success",
            "max": 855467,
            "_view_module": "@jupyter-widgets/controls",
            "_model_module_version": "1.5.0",
            "value": 855467,
            "_view_count": null,
            "_view_module_version": "1.5.0",
            "orientation": "horizontal",
            "min": 0,
            "description_tooltip": null,
            "_model_module": "@jupyter-widgets/controls",
            "layout": "IPY_MODEL_dd9a14a2837b4a3196f821159ea207df"
          }
        },
        "3e595d39fb634c939c63f16d02d00ede": {
          "model_module": "@jupyter-widgets/controls",
          "model_name": "HTMLModel",
          "model_module_version": "1.5.0",
          "state": {
            "_view_name": "HTMLView",
            "style": "IPY_MODEL_eede140961024c79967da55ad5e1d02d",
            "_dom_classes": [],
            "description": "",
            "_model_name": "HTMLModel",
            "placeholder": "​",
            "_view_module": "@jupyter-widgets/controls",
            "_model_module_version": "1.5.0",
            "value": " 835k/835k [00:00&lt;00:00, 1.03MB/s]",
            "_view_count": null,
            "_view_module_version": "1.5.0",
            "description_tooltip": null,
            "_model_module": "@jupyter-widgets/controls",
            "layout": "IPY_MODEL_5aeeb4dc4bec48c2a37cf4049c245f55"
          }
        },
        "7992ba985a0c45f385bdd2a2b9f0d10a": {
          "model_module": "@jupyter-widgets/controls",
          "model_name": "DescriptionStyleModel",
          "model_module_version": "1.5.0",
          "state": {
            "_view_name": "StyleView",
            "_model_name": "DescriptionStyleModel",
            "description_width": "",
            "_view_module": "@jupyter-widgets/base",
            "_model_module_version": "1.5.0",
            "_view_count": null,
            "_view_module_version": "1.2.0",
            "_model_module": "@jupyter-widgets/controls"
          }
        },
        "8f92e8307d614f248d5ee5e8caf92497": {
          "model_module": "@jupyter-widgets/base",
          "model_name": "LayoutModel",
          "model_module_version": "1.2.0",
          "state": {
            "_view_name": "LayoutView",
            "grid_template_rows": null,
            "right": null,
            "justify_content": null,
            "_view_module": "@jupyter-widgets/base",
            "overflow": null,
            "_model_module_version": "1.2.0",
            "_view_count": null,
            "flex_flow": null,
            "width": null,
            "min_width": null,
            "border": null,
            "align_items": null,
            "bottom": null,
            "_model_module": "@jupyter-widgets/base",
            "top": null,
            "grid_column": null,
            "overflow_y": null,
            "overflow_x": null,
            "grid_auto_flow": null,
            "grid_area": null,
            "grid_template_columns": null,
            "flex": null,
            "_model_name": "LayoutModel",
            "justify_items": null,
            "grid_row": null,
            "max_height": null,
            "align_content": null,
            "visibility": null,
            "align_self": null,
            "height": null,
            "min_height": null,
            "padding": null,
            "grid_auto_rows": null,
            "grid_gap": null,
            "max_width": null,
            "order": null,
            "_view_module_version": "1.2.0",
            "grid_template_areas": null,
            "object_position": null,
            "object_fit": null,
            "grid_auto_columns": null,
            "margin": null,
            "display": null,
            "left": null
          }
        },
        "20772c158c624001b995dfaa590f4df5": {
          "model_module": "@jupyter-widgets/controls",
          "model_name": "ProgressStyleModel",
          "model_module_version": "1.5.0",
          "state": {
            "_view_name": "StyleView",
            "_model_name": "ProgressStyleModel",
            "description_width": "",
            "_view_module": "@jupyter-widgets/base",
            "_model_module_version": "1.5.0",
            "_view_count": null,
            "_view_module_version": "1.2.0",
            "bar_color": null,
            "_model_module": "@jupyter-widgets/controls"
          }
        },
        "dd9a14a2837b4a3196f821159ea207df": {
          "model_module": "@jupyter-widgets/base",
          "model_name": "LayoutModel",
          "model_module_version": "1.2.0",
          "state": {
            "_view_name": "LayoutView",
            "grid_template_rows": null,
            "right": null,
            "justify_content": null,
            "_view_module": "@jupyter-widgets/base",
            "overflow": null,
            "_model_module_version": "1.2.0",
            "_view_count": null,
            "flex_flow": null,
            "width": null,
            "min_width": null,
            "border": null,
            "align_items": null,
            "bottom": null,
            "_model_module": "@jupyter-widgets/base",
            "top": null,
            "grid_column": null,
            "overflow_y": null,
            "overflow_x": null,
            "grid_auto_flow": null,
            "grid_area": null,
            "grid_template_columns": null,
            "flex": null,
            "_model_name": "LayoutModel",
            "justify_items": null,
            "grid_row": null,
            "max_height": null,
            "align_content": null,
            "visibility": null,
            "align_self": null,
            "height": null,
            "min_height": null,
            "padding": null,
            "grid_auto_rows": null,
            "grid_gap": null,
            "max_width": null,
            "order": null,
            "_view_module_version": "1.2.0",
            "grid_template_areas": null,
            "object_position": null,
            "object_fit": null,
            "grid_auto_columns": null,
            "margin": null,
            "display": null,
            "left": null
          }
        },
        "eede140961024c79967da55ad5e1d02d": {
          "model_module": "@jupyter-widgets/controls",
          "model_name": "DescriptionStyleModel",
          "model_module_version": "1.5.0",
          "state": {
            "_view_name": "StyleView",
            "_model_name": "DescriptionStyleModel",
            "description_width": "",
            "_view_module": "@jupyter-widgets/base",
            "_model_module_version": "1.5.0",
            "_view_count": null,
            "_view_module_version": "1.2.0",
            "_model_module": "@jupyter-widgets/controls"
          }
        },
        "5aeeb4dc4bec48c2a37cf4049c245f55": {
          "model_module": "@jupyter-widgets/base",
          "model_name": "LayoutModel",
          "model_module_version": "1.2.0",
          "state": {
            "_view_name": "LayoutView",
            "grid_template_rows": null,
            "right": null,
            "justify_content": null,
            "_view_module": "@jupyter-widgets/base",
            "overflow": null,
            "_model_module_version": "1.2.0",
            "_view_count": null,
            "flex_flow": null,
            "width": null,
            "min_width": null,
            "border": null,
            "align_items": null,
            "bottom": null,
            "_model_module": "@jupyter-widgets/base",
            "top": null,
            "grid_column": null,
            "overflow_y": null,
            "overflow_x": null,
            "grid_auto_flow": null,
            "grid_area": null,
            "grid_template_columns": null,
            "flex": null,
            "_model_name": "LayoutModel",
            "justify_items": null,
            "grid_row": null,
            "max_height": null,
            "align_content": null,
            "visibility": null,
            "align_self": null,
            "height": null,
            "min_height": null,
            "padding": null,
            "grid_auto_rows": null,
            "grid_gap": null,
            "max_width": null,
            "order": null,
            "_view_module_version": "1.2.0",
            "grid_template_areas": null,
            "object_position": null,
            "object_fit": null,
            "grid_auto_columns": null,
            "margin": null,
            "display": null,
            "left": null
          }
        },
        "346f704c84ef4725972c586bb0eae9d9": {
          "model_module": "@jupyter-widgets/controls",
          "model_name": "HBoxModel",
          "model_module_version": "1.5.0",
          "state": {
            "_view_name": "HBoxView",
            "_dom_classes": [],
            "_model_name": "HBoxModel",
            "_view_module": "@jupyter-widgets/controls",
            "_model_module_version": "1.5.0",
            "_view_count": null,
            "_view_module_version": "1.5.0",
            "box_style": "",
            "layout": "IPY_MODEL_b83bf0e34382482f866d0ceb347054ec",
            "_model_module": "@jupyter-widgets/controls",
            "children": [
              "IPY_MODEL_5178e50a272e42afa71497a4b72afce3",
              "IPY_MODEL_4619ff5d2a02425689de8a74ab9ef8df",
              "IPY_MODEL_3fcf93941f7148a2ba03b78b4380fcf6"
            ]
          }
        },
        "b83bf0e34382482f866d0ceb347054ec": {
          "model_module": "@jupyter-widgets/base",
          "model_name": "LayoutModel",
          "model_module_version": "1.2.0",
          "state": {
            "_view_name": "LayoutView",
            "grid_template_rows": null,
            "right": null,
            "justify_content": null,
            "_view_module": "@jupyter-widgets/base",
            "overflow": null,
            "_model_module_version": "1.2.0",
            "_view_count": null,
            "flex_flow": null,
            "width": null,
            "min_width": null,
            "border": null,
            "align_items": null,
            "bottom": null,
            "_model_module": "@jupyter-widgets/base",
            "top": null,
            "grid_column": null,
            "overflow_y": null,
            "overflow_x": null,
            "grid_auto_flow": null,
            "grid_area": null,
            "grid_template_columns": null,
            "flex": null,
            "_model_name": "LayoutModel",
            "justify_items": null,
            "grid_row": null,
            "max_height": null,
            "align_content": null,
            "visibility": null,
            "align_self": null,
            "height": null,
            "min_height": null,
            "padding": null,
            "grid_auto_rows": null,
            "grid_gap": null,
            "max_width": null,
            "order": null,
            "_view_module_version": "1.2.0",
            "grid_template_areas": null,
            "object_position": null,
            "object_fit": null,
            "grid_auto_columns": null,
            "margin": null,
            "display": null,
            "left": null
          }
        },
        "5178e50a272e42afa71497a4b72afce3": {
          "model_module": "@jupyter-widgets/controls",
          "model_name": "HTMLModel",
          "model_module_version": "1.5.0",
          "state": {
            "_view_name": "HTMLView",
            "style": "IPY_MODEL_dbdaae1dceec42d6b0aea3174e357cd4",
            "_dom_classes": [],
            "description": "",
            "_model_name": "HTMLModel",
            "placeholder": "​",
            "_view_module": "@jupyter-widgets/controls",
            "_model_module_version": "1.5.0",
            "value": "Downloading: 100%",
            "_view_count": null,
            "_view_module_version": "1.5.0",
            "description_tooltip": null,
            "_model_module": "@jupyter-widgets/controls",
            "layout": "IPY_MODEL_f5b8d8844a8746c79be0161b806e3594"
          }
        },
        "4619ff5d2a02425689de8a74ab9ef8df": {
          "model_module": "@jupyter-widgets/controls",
          "model_name": "FloatProgressModel",
          "model_module_version": "1.5.0",
          "state": {
            "_view_name": "ProgressView",
            "style": "IPY_MODEL_5d6ffe1ad57847e3b2af65acc704c7cf",
            "_dom_classes": [],
            "description": "",
            "_model_name": "FloatProgressModel",
            "bar_style": "success",
            "max": 513766,
            "_view_module": "@jupyter-widgets/controls",
            "_model_module_version": "1.5.0",
            "value": 513766,
            "_view_count": null,
            "_view_module_version": "1.5.0",
            "orientation": "horizontal",
            "min": 0,
            "description_tooltip": null,
            "_model_module": "@jupyter-widgets/controls",
            "layout": "IPY_MODEL_96c469d7c88c4dd69e34ebc3047a3f04"
          }
        },
        "3fcf93941f7148a2ba03b78b4380fcf6": {
          "model_module": "@jupyter-widgets/controls",
          "model_name": "HTMLModel",
          "model_module_version": "1.5.0",
          "state": {
            "_view_name": "HTMLView",
            "style": "IPY_MODEL_e73f53e219f24817a16fd0037677cdc3",
            "_dom_classes": [],
            "description": "",
            "_model_name": "HTMLModel",
            "placeholder": "​",
            "_view_module": "@jupyter-widgets/controls",
            "_model_module_version": "1.5.0",
            "value": " 502k/502k [00:00&lt;00:00, 668kB/s]",
            "_view_count": null,
            "_view_module_version": "1.5.0",
            "description_tooltip": null,
            "_model_module": "@jupyter-widgets/controls",
            "layout": "IPY_MODEL_29a1e713bc004656aa8bd7fd3c21d3b8"
          }
        },
        "dbdaae1dceec42d6b0aea3174e357cd4": {
          "model_module": "@jupyter-widgets/controls",
          "model_name": "DescriptionStyleModel",
          "model_module_version": "1.5.0",
          "state": {
            "_view_name": "StyleView",
            "_model_name": "DescriptionStyleModel",
            "description_width": "",
            "_view_module": "@jupyter-widgets/base",
            "_model_module_version": "1.5.0",
            "_view_count": null,
            "_view_module_version": "1.2.0",
            "_model_module": "@jupyter-widgets/controls"
          }
        },
        "f5b8d8844a8746c79be0161b806e3594": {
          "model_module": "@jupyter-widgets/base",
          "model_name": "LayoutModel",
          "model_module_version": "1.2.0",
          "state": {
            "_view_name": "LayoutView",
            "grid_template_rows": null,
            "right": null,
            "justify_content": null,
            "_view_module": "@jupyter-widgets/base",
            "overflow": null,
            "_model_module_version": "1.2.0",
            "_view_count": null,
            "flex_flow": null,
            "width": null,
            "min_width": null,
            "border": null,
            "align_items": null,
            "bottom": null,
            "_model_module": "@jupyter-widgets/base",
            "top": null,
            "grid_column": null,
            "overflow_y": null,
            "overflow_x": null,
            "grid_auto_flow": null,
            "grid_area": null,
            "grid_template_columns": null,
            "flex": null,
            "_model_name": "LayoutModel",
            "justify_items": null,
            "grid_row": null,
            "max_height": null,
            "align_content": null,
            "visibility": null,
            "align_self": null,
            "height": null,
            "min_height": null,
            "padding": null,
            "grid_auto_rows": null,
            "grid_gap": null,
            "max_width": null,
            "order": null,
            "_view_module_version": "1.2.0",
            "grid_template_areas": null,
            "object_position": null,
            "object_fit": null,
            "grid_auto_columns": null,
            "margin": null,
            "display": null,
            "left": null
          }
        },
        "5d6ffe1ad57847e3b2af65acc704c7cf": {
          "model_module": "@jupyter-widgets/controls",
          "model_name": "ProgressStyleModel",
          "model_module_version": "1.5.0",
          "state": {
            "_view_name": "StyleView",
            "_model_name": "ProgressStyleModel",
            "description_width": "",
            "_view_module": "@jupyter-widgets/base",
            "_model_module_version": "1.5.0",
            "_view_count": null,
            "_view_module_version": "1.2.0",
            "bar_color": null,
            "_model_module": "@jupyter-widgets/controls"
          }
        },
        "96c469d7c88c4dd69e34ebc3047a3f04": {
          "model_module": "@jupyter-widgets/base",
          "model_name": "LayoutModel",
          "model_module_version": "1.2.0",
          "state": {
            "_view_name": "LayoutView",
            "grid_template_rows": null,
            "right": null,
            "justify_content": null,
            "_view_module": "@jupyter-widgets/base",
            "overflow": null,
            "_model_module_version": "1.2.0",
            "_view_count": null,
            "flex_flow": null,
            "width": null,
            "min_width": null,
            "border": null,
            "align_items": null,
            "bottom": null,
            "_model_module": "@jupyter-widgets/base",
            "top": null,
            "grid_column": null,
            "overflow_y": null,
            "overflow_x": null,
            "grid_auto_flow": null,
            "grid_area": null,
            "grid_template_columns": null,
            "flex": null,
            "_model_name": "LayoutModel",
            "justify_items": null,
            "grid_row": null,
            "max_height": null,
            "align_content": null,
            "visibility": null,
            "align_self": null,
            "height": null,
            "min_height": null,
            "padding": null,
            "grid_auto_rows": null,
            "grid_gap": null,
            "max_width": null,
            "order": null,
            "_view_module_version": "1.2.0",
            "grid_template_areas": null,
            "object_position": null,
            "object_fit": null,
            "grid_auto_columns": null,
            "margin": null,
            "display": null,
            "left": null
          }
        },
        "e73f53e219f24817a16fd0037677cdc3": {
          "model_module": "@jupyter-widgets/controls",
          "model_name": "DescriptionStyleModel",
          "model_module_version": "1.5.0",
          "state": {
            "_view_name": "StyleView",
            "_model_name": "DescriptionStyleModel",
            "description_width": "",
            "_view_module": "@jupyter-widgets/base",
            "_model_module_version": "1.5.0",
            "_view_count": null,
            "_view_module_version": "1.2.0",
            "_model_module": "@jupyter-widgets/controls"
          }
        },
        "29a1e713bc004656aa8bd7fd3c21d3b8": {
          "model_module": "@jupyter-widgets/base",
          "model_name": "LayoutModel",
          "model_module_version": "1.2.0",
          "state": {
            "_view_name": "LayoutView",
            "grid_template_rows": null,
            "right": null,
            "justify_content": null,
            "_view_module": "@jupyter-widgets/base",
            "overflow": null,
            "_model_module_version": "1.2.0",
            "_view_count": null,
            "flex_flow": null,
            "width": null,
            "min_width": null,
            "border": null,
            "align_items": null,
            "bottom": null,
            "_model_module": "@jupyter-widgets/base",
            "top": null,
            "grid_column": null,
            "overflow_y": null,
            "overflow_x": null,
            "grid_auto_flow": null,
            "grid_area": null,
            "grid_template_columns": null,
            "flex": null,
            "_model_name": "LayoutModel",
            "justify_items": null,
            "grid_row": null,
            "max_height": null,
            "align_content": null,
            "visibility": null,
            "align_self": null,
            "height": null,
            "min_height": null,
            "padding": null,
            "grid_auto_rows": null,
            "grid_gap": null,
            "max_width": null,
            "order": null,
            "_view_module_version": "1.2.0",
            "grid_template_areas": null,
            "object_position": null,
            "object_fit": null,
            "grid_auto_columns": null,
            "margin": null,
            "display": null,
            "left": null
          }
        },
        "848c33b665764b4aa9fdb9360e46e83b": {
          "model_module": "@jupyter-widgets/controls",
          "model_name": "HBoxModel",
          "model_module_version": "1.5.0",
          "state": {
            "_view_name": "HBoxView",
            "_dom_classes": [],
            "_model_name": "HBoxModel",
            "_view_module": "@jupyter-widgets/controls",
            "_model_module_version": "1.5.0",
            "_view_count": null,
            "_view_module_version": "1.5.0",
            "box_style": "",
            "layout": "IPY_MODEL_4bcaa08c4a87400e8dd89af473aa7821",
            "_model_module": "@jupyter-widgets/controls",
            "children": [
              "IPY_MODEL_c7b3fa4816e64fcd8c79bddbba262061",
              "IPY_MODEL_d20911a0e78d47da98887fd5895541e0",
              "IPY_MODEL_9102287fdc404255b8d88fd7c0f2fe9b"
            ]
          }
        },
        "4bcaa08c4a87400e8dd89af473aa7821": {
          "model_module": "@jupyter-widgets/base",
          "model_name": "LayoutModel",
          "model_module_version": "1.2.0",
          "state": {
            "_view_name": "LayoutView",
            "grid_template_rows": null,
            "right": null,
            "justify_content": null,
            "_view_module": "@jupyter-widgets/base",
            "overflow": null,
            "_model_module_version": "1.2.0",
            "_view_count": null,
            "flex_flow": null,
            "width": null,
            "min_width": null,
            "border": null,
            "align_items": null,
            "bottom": null,
            "_model_module": "@jupyter-widgets/base",
            "top": null,
            "grid_column": null,
            "overflow_y": null,
            "overflow_x": null,
            "grid_auto_flow": null,
            "grid_area": null,
            "grid_template_columns": null,
            "flex": null,
            "_model_name": "LayoutModel",
            "justify_items": null,
            "grid_row": null,
            "max_height": null,
            "align_content": null,
            "visibility": null,
            "align_self": null,
            "height": null,
            "min_height": null,
            "padding": null,
            "grid_auto_rows": null,
            "grid_gap": null,
            "max_width": null,
            "order": null,
            "_view_module_version": "1.2.0",
            "grid_template_areas": null,
            "object_position": null,
            "object_fit": null,
            "grid_auto_columns": null,
            "margin": null,
            "display": null,
            "left": null
          }
        },
        "c7b3fa4816e64fcd8c79bddbba262061": {
          "model_module": "@jupyter-widgets/controls",
          "model_name": "HTMLModel",
          "model_module_version": "1.5.0",
          "state": {
            "_view_name": "HTMLView",
            "style": "IPY_MODEL_c1a4407ef59b433f8bc5208d18a56e3a",
            "_dom_classes": [],
            "description": "",
            "_model_name": "HTMLModel",
            "placeholder": "​",
            "_view_module": "@jupyter-widgets/controls",
            "_model_module_version": "1.5.0",
            "value": "Downloading: 100%",
            "_view_count": null,
            "_view_module_version": "1.5.0",
            "description_tooltip": null,
            "_model_module": "@jupyter-widgets/controls",
            "layout": "IPY_MODEL_8fdc2ba95c244786ac3c3b5db1d07335"
          }
        },
        "d20911a0e78d47da98887fd5895541e0": {
          "model_module": "@jupyter-widgets/controls",
          "model_name": "FloatProgressModel",
          "model_module_version": "1.5.0",
          "state": {
            "_view_name": "ProgressView",
            "style": "IPY_MODEL_1e67a762eb03452fa5fbe8ee3c2d2095",
            "_dom_classes": [],
            "description": "",
            "_model_name": "FloatProgressModel",
            "bar_style": "success",
            "max": 1470259,
            "_view_module": "@jupyter-widgets/controls",
            "_model_module_version": "1.5.0",
            "value": 1470259,
            "_view_count": null,
            "_view_module_version": "1.5.0",
            "orientation": "horizontal",
            "min": 0,
            "description_tooltip": null,
            "_model_module": "@jupyter-widgets/controls",
            "layout": "IPY_MODEL_b462f308f6c049b89ce5feec7b8867cb"
          }
        },
        "9102287fdc404255b8d88fd7c0f2fe9b": {
          "model_module": "@jupyter-widgets/controls",
          "model_name": "HTMLModel",
          "model_module_version": "1.5.0",
          "state": {
            "_view_name": "HTMLView",
            "style": "IPY_MODEL_59e99e5f940f47178936970b2dbd2140",
            "_dom_classes": [],
            "description": "",
            "_model_name": "HTMLModel",
            "placeholder": "​",
            "_view_module": "@jupyter-widgets/controls",
            "_model_module_version": "1.5.0",
            "value": " 1.40M/1.40M [00:01&lt;00:00, 1.38MB/s]",
            "_view_count": null,
            "_view_module_version": "1.5.0",
            "description_tooltip": null,
            "_model_module": "@jupyter-widgets/controls",
            "layout": "IPY_MODEL_2391f253aca9468d95e1396126b86a38"
          }
        },
        "c1a4407ef59b433f8bc5208d18a56e3a": {
          "model_module": "@jupyter-widgets/controls",
          "model_name": "DescriptionStyleModel",
          "model_module_version": "1.5.0",
          "state": {
            "_view_name": "StyleView",
            "_model_name": "DescriptionStyleModel",
            "description_width": "",
            "_view_module": "@jupyter-widgets/base",
            "_model_module_version": "1.5.0",
            "_view_count": null,
            "_view_module_version": "1.2.0",
            "_model_module": "@jupyter-widgets/controls"
          }
        },
        "8fdc2ba95c244786ac3c3b5db1d07335": {
          "model_module": "@jupyter-widgets/base",
          "model_name": "LayoutModel",
          "model_module_version": "1.2.0",
          "state": {
            "_view_name": "LayoutView",
            "grid_template_rows": null,
            "right": null,
            "justify_content": null,
            "_view_module": "@jupyter-widgets/base",
            "overflow": null,
            "_model_module_version": "1.2.0",
            "_view_count": null,
            "flex_flow": null,
            "width": null,
            "min_width": null,
            "border": null,
            "align_items": null,
            "bottom": null,
            "_model_module": "@jupyter-widgets/base",
            "top": null,
            "grid_column": null,
            "overflow_y": null,
            "overflow_x": null,
            "grid_auto_flow": null,
            "grid_area": null,
            "grid_template_columns": null,
            "flex": null,
            "_model_name": "LayoutModel",
            "justify_items": null,
            "grid_row": null,
            "max_height": null,
            "align_content": null,
            "visibility": null,
            "align_self": null,
            "height": null,
            "min_height": null,
            "padding": null,
            "grid_auto_rows": null,
            "grid_gap": null,
            "max_width": null,
            "order": null,
            "_view_module_version": "1.2.0",
            "grid_template_areas": null,
            "object_position": null,
            "object_fit": null,
            "grid_auto_columns": null,
            "margin": null,
            "display": null,
            "left": null
          }
        },
        "1e67a762eb03452fa5fbe8ee3c2d2095": {
          "model_module": "@jupyter-widgets/controls",
          "model_name": "ProgressStyleModel",
          "model_module_version": "1.5.0",
          "state": {
            "_view_name": "StyleView",
            "_model_name": "ProgressStyleModel",
            "description_width": "",
            "_view_module": "@jupyter-widgets/base",
            "_model_module_version": "1.5.0",
            "_view_count": null,
            "_view_module_version": "1.2.0",
            "bar_color": null,
            "_model_module": "@jupyter-widgets/controls"
          }
        },
        "b462f308f6c049b89ce5feec7b8867cb": {
          "model_module": "@jupyter-widgets/base",
          "model_name": "LayoutModel",
          "model_module_version": "1.2.0",
          "state": {
            "_view_name": "LayoutView",
            "grid_template_rows": null,
            "right": null,
            "justify_content": null,
            "_view_module": "@jupyter-widgets/base",
            "overflow": null,
            "_model_module_version": "1.2.0",
            "_view_count": null,
            "flex_flow": null,
            "width": null,
            "min_width": null,
            "border": null,
            "align_items": null,
            "bottom": null,
            "_model_module": "@jupyter-widgets/base",
            "top": null,
            "grid_column": null,
            "overflow_y": null,
            "overflow_x": null,
            "grid_auto_flow": null,
            "grid_area": null,
            "grid_template_columns": null,
            "flex": null,
            "_model_name": "LayoutModel",
            "justify_items": null,
            "grid_row": null,
            "max_height": null,
            "align_content": null,
            "visibility": null,
            "align_self": null,
            "height": null,
            "min_height": null,
            "padding": null,
            "grid_auto_rows": null,
            "grid_gap": null,
            "max_width": null,
            "order": null,
            "_view_module_version": "1.2.0",
            "grid_template_areas": null,
            "object_position": null,
            "object_fit": null,
            "grid_auto_columns": null,
            "margin": null,
            "display": null,
            "left": null
          }
        },
        "59e99e5f940f47178936970b2dbd2140": {
          "model_module": "@jupyter-widgets/controls",
          "model_name": "DescriptionStyleModel",
          "model_module_version": "1.5.0",
          "state": {
            "_view_name": "StyleView",
            "_model_name": "DescriptionStyleModel",
            "description_width": "",
            "_view_module": "@jupyter-widgets/base",
            "_model_module_version": "1.5.0",
            "_view_count": null,
            "_view_module_version": "1.2.0",
            "_model_module": "@jupyter-widgets/controls"
          }
        },
        "2391f253aca9468d95e1396126b86a38": {
          "model_module": "@jupyter-widgets/base",
          "model_name": "LayoutModel",
          "model_module_version": "1.2.0",
          "state": {
            "_view_name": "LayoutView",
            "grid_template_rows": null,
            "right": null,
            "justify_content": null,
            "_view_module": "@jupyter-widgets/base",
            "overflow": null,
            "_model_module_version": "1.2.0",
            "_view_count": null,
            "flex_flow": null,
            "width": null,
            "min_width": null,
            "border": null,
            "align_items": null,
            "bottom": null,
            "_model_module": "@jupyter-widgets/base",
            "top": null,
            "grid_column": null,
            "overflow_y": null,
            "overflow_x": null,
            "grid_auto_flow": null,
            "grid_area": null,
            "grid_template_columns": null,
            "flex": null,
            "_model_name": "LayoutModel",
            "justify_items": null,
            "grid_row": null,
            "max_height": null,
            "align_content": null,
            "visibility": null,
            "align_self": null,
            "height": null,
            "min_height": null,
            "padding": null,
            "grid_auto_rows": null,
            "grid_gap": null,
            "max_width": null,
            "order": null,
            "_view_module_version": "1.2.0",
            "grid_template_areas": null,
            "object_position": null,
            "object_fit": null,
            "grid_auto_columns": null,
            "margin": null,
            "display": null,
            "left": null
          }
        },
        "22dca9df09c64136b51ca405d669cab2": {
          "model_module": "@jupyter-widgets/controls",
          "model_name": "HBoxModel",
          "model_module_version": "1.5.0",
          "state": {
            "_view_name": "HBoxView",
            "_dom_classes": [],
            "_model_name": "HBoxModel",
            "_view_module": "@jupyter-widgets/controls",
            "_model_module_version": "1.5.0",
            "_view_count": null,
            "_view_module_version": "1.5.0",
            "box_style": "",
            "layout": "IPY_MODEL_44890d2b063345648e76cd0a446db252",
            "_model_module": "@jupyter-widgets/controls",
            "children": [
              "IPY_MODEL_dd09107d8d6d4e10872f1f3d81c5792a",
              "IPY_MODEL_26ccceb6deba4c74b2b8897bae134c04",
              "IPY_MODEL_41a034e6bf8f4e2cbb670138b9a7ee6c"
            ]
          }
        },
        "44890d2b063345648e76cd0a446db252": {
          "model_module": "@jupyter-widgets/base",
          "model_name": "LayoutModel",
          "model_module_version": "1.2.0",
          "state": {
            "_view_name": "LayoutView",
            "grid_template_rows": null,
            "right": null,
            "justify_content": null,
            "_view_module": "@jupyter-widgets/base",
            "overflow": null,
            "_model_module_version": "1.2.0",
            "_view_count": null,
            "flex_flow": null,
            "width": null,
            "min_width": null,
            "border": null,
            "align_items": null,
            "bottom": null,
            "_model_module": "@jupyter-widgets/base",
            "top": null,
            "grid_column": null,
            "overflow_y": null,
            "overflow_x": null,
            "grid_auto_flow": null,
            "grid_area": null,
            "grid_template_columns": null,
            "flex": null,
            "_model_name": "LayoutModel",
            "justify_items": null,
            "grid_row": null,
            "max_height": null,
            "align_content": null,
            "visibility": null,
            "align_self": null,
            "height": null,
            "min_height": null,
            "padding": null,
            "grid_auto_rows": null,
            "grid_gap": null,
            "max_width": null,
            "order": null,
            "_view_module_version": "1.2.0",
            "grid_template_areas": null,
            "object_position": null,
            "object_fit": null,
            "grid_auto_columns": null,
            "margin": null,
            "display": null,
            "left": null
          }
        },
        "dd09107d8d6d4e10872f1f3d81c5792a": {
          "model_module": "@jupyter-widgets/controls",
          "model_name": "HTMLModel",
          "model_module_version": "1.5.0",
          "state": {
            "_view_name": "HTMLView",
            "style": "IPY_MODEL_c786f24543a84fdf8a3fb9dac1d69827",
            "_dom_classes": [],
            "description": "",
            "_model_name": "HTMLModel",
            "placeholder": "​",
            "_view_module": "@jupyter-widgets/controls",
            "_model_module_version": "1.5.0",
            "value": "Downloading: 100%",
            "_view_count": null,
            "_view_module_version": "1.5.0",
            "description_tooltip": null,
            "_model_module": "@jupyter-widgets/controls",
            "layout": "IPY_MODEL_681faf25963641d0887fe6c61f3bbaea"
          }
        },
        "26ccceb6deba4c74b2b8897bae134c04": {
          "model_module": "@jupyter-widgets/controls",
          "model_name": "FloatProgressModel",
          "model_module_version": "1.5.0",
          "state": {
            "_view_name": "ProgressView",
            "style": "IPY_MODEL_1852f70765ed418ebf8ac5645dcec6a3",
            "_dom_classes": [],
            "description": "",
            "_model_name": "FloatProgressModel",
            "bar_style": "success",
            "max": 239,
            "_view_module": "@jupyter-widgets/controls",
            "_model_module_version": "1.5.0",
            "value": 239,
            "_view_count": null,
            "_view_module_version": "1.5.0",
            "orientation": "horizontal",
            "min": 0,
            "description_tooltip": null,
            "_model_module": "@jupyter-widgets/controls",
            "layout": "IPY_MODEL_6a02d3121d1d4673990fc5af183c4947"
          }
        },
        "41a034e6bf8f4e2cbb670138b9a7ee6c": {
          "model_module": "@jupyter-widgets/controls",
          "model_name": "HTMLModel",
          "model_module_version": "1.5.0",
          "state": {
            "_view_name": "HTMLView",
            "style": "IPY_MODEL_65ef3284cb4745ed8b39c699547f087a",
            "_dom_classes": [],
            "description": "",
            "_model_name": "HTMLModel",
            "placeholder": "​",
            "_view_module": "@jupyter-widgets/controls",
            "_model_module_version": "1.5.0",
            "value": " 239/239 [00:00&lt;00:00, 5.65kB/s]",
            "_view_count": null,
            "_view_module_version": "1.5.0",
            "description_tooltip": null,
            "_model_module": "@jupyter-widgets/controls",
            "layout": "IPY_MODEL_32e966f126ee4ed98ecbed08130ee765"
          }
        },
        "c786f24543a84fdf8a3fb9dac1d69827": {
          "model_module": "@jupyter-widgets/controls",
          "model_name": "DescriptionStyleModel",
          "model_module_version": "1.5.0",
          "state": {
            "_view_name": "StyleView",
            "_model_name": "DescriptionStyleModel",
            "description_width": "",
            "_view_module": "@jupyter-widgets/base",
            "_model_module_version": "1.5.0",
            "_view_count": null,
            "_view_module_version": "1.2.0",
            "_model_module": "@jupyter-widgets/controls"
          }
        },
        "681faf25963641d0887fe6c61f3bbaea": {
          "model_module": "@jupyter-widgets/base",
          "model_name": "LayoutModel",
          "model_module_version": "1.2.0",
          "state": {
            "_view_name": "LayoutView",
            "grid_template_rows": null,
            "right": null,
            "justify_content": null,
            "_view_module": "@jupyter-widgets/base",
            "overflow": null,
            "_model_module_version": "1.2.0",
            "_view_count": null,
            "flex_flow": null,
            "width": null,
            "min_width": null,
            "border": null,
            "align_items": null,
            "bottom": null,
            "_model_module": "@jupyter-widgets/base",
            "top": null,
            "grid_column": null,
            "overflow_y": null,
            "overflow_x": null,
            "grid_auto_flow": null,
            "grid_area": null,
            "grid_template_columns": null,
            "flex": null,
            "_model_name": "LayoutModel",
            "justify_items": null,
            "grid_row": null,
            "max_height": null,
            "align_content": null,
            "visibility": null,
            "align_self": null,
            "height": null,
            "min_height": null,
            "padding": null,
            "grid_auto_rows": null,
            "grid_gap": null,
            "max_width": null,
            "order": null,
            "_view_module_version": "1.2.0",
            "grid_template_areas": null,
            "object_position": null,
            "object_fit": null,
            "grid_auto_columns": null,
            "margin": null,
            "display": null,
            "left": null
          }
        },
        "1852f70765ed418ebf8ac5645dcec6a3": {
          "model_module": "@jupyter-widgets/controls",
          "model_name": "ProgressStyleModel",
          "model_module_version": "1.5.0",
          "state": {
            "_view_name": "StyleView",
            "_model_name": "ProgressStyleModel",
            "description_width": "",
            "_view_module": "@jupyter-widgets/base",
            "_model_module_version": "1.5.0",
            "_view_count": null,
            "_view_module_version": "1.2.0",
            "bar_color": null,
            "_model_module": "@jupyter-widgets/controls"
          }
        },
        "6a02d3121d1d4673990fc5af183c4947": {
          "model_module": "@jupyter-widgets/base",
          "model_name": "LayoutModel",
          "model_module_version": "1.2.0",
          "state": {
            "_view_name": "LayoutView",
            "grid_template_rows": null,
            "right": null,
            "justify_content": null,
            "_view_module": "@jupyter-widgets/base",
            "overflow": null,
            "_model_module_version": "1.2.0",
            "_view_count": null,
            "flex_flow": null,
            "width": null,
            "min_width": null,
            "border": null,
            "align_items": null,
            "bottom": null,
            "_model_module": "@jupyter-widgets/base",
            "top": null,
            "grid_column": null,
            "overflow_y": null,
            "overflow_x": null,
            "grid_auto_flow": null,
            "grid_area": null,
            "grid_template_columns": null,
            "flex": null,
            "_model_name": "LayoutModel",
            "justify_items": null,
            "grid_row": null,
            "max_height": null,
            "align_content": null,
            "visibility": null,
            "align_self": null,
            "height": null,
            "min_height": null,
            "padding": null,
            "grid_auto_rows": null,
            "grid_gap": null,
            "max_width": null,
            "order": null,
            "_view_module_version": "1.2.0",
            "grid_template_areas": null,
            "object_position": null,
            "object_fit": null,
            "grid_auto_columns": null,
            "margin": null,
            "display": null,
            "left": null
          }
        },
        "65ef3284cb4745ed8b39c699547f087a": {
          "model_module": "@jupyter-widgets/controls",
          "model_name": "DescriptionStyleModel",
          "model_module_version": "1.5.0",
          "state": {
            "_view_name": "StyleView",
            "_model_name": "DescriptionStyleModel",
            "description_width": "",
            "_view_module": "@jupyter-widgets/base",
            "_model_module_version": "1.5.0",
            "_view_count": null,
            "_view_module_version": "1.2.0",
            "_model_module": "@jupyter-widgets/controls"
          }
        },
        "32e966f126ee4ed98ecbed08130ee765": {
          "model_module": "@jupyter-widgets/base",
          "model_name": "LayoutModel",
          "model_module_version": "1.2.0",
          "state": {
            "_view_name": "LayoutView",
            "grid_template_rows": null,
            "right": null,
            "justify_content": null,
            "_view_module": "@jupyter-widgets/base",
            "overflow": null,
            "_model_module_version": "1.2.0",
            "_view_count": null,
            "flex_flow": null,
            "width": null,
            "min_width": null,
            "border": null,
            "align_items": null,
            "bottom": null,
            "_model_module": "@jupyter-widgets/base",
            "top": null,
            "grid_column": null,
            "overflow_y": null,
            "overflow_x": null,
            "grid_auto_flow": null,
            "grid_area": null,
            "grid_template_columns": null,
            "flex": null,
            "_model_name": "LayoutModel",
            "justify_items": null,
            "grid_row": null,
            "max_height": null,
            "align_content": null,
            "visibility": null,
            "align_self": null,
            "height": null,
            "min_height": null,
            "padding": null,
            "grid_auto_rows": null,
            "grid_gap": null,
            "max_width": null,
            "order": null,
            "_view_module_version": "1.2.0",
            "grid_template_areas": null,
            "object_position": null,
            "object_fit": null,
            "grid_auto_columns": null,
            "margin": null,
            "display": null,
            "left": null
          }
        },
        "5f33075a0e0f41ceb241284c14d1ab7e": {
          "model_module": "@jupyter-widgets/controls",
          "model_name": "HBoxModel",
          "model_module_version": "1.5.0",
          "state": {
            "_view_name": "HBoxView",
            "_dom_classes": [],
            "_model_name": "HBoxModel",
            "_view_module": "@jupyter-widgets/controls",
            "_model_module_version": "1.5.0",
            "_view_count": null,
            "_view_module_version": "1.5.0",
            "box_style": "",
            "layout": "IPY_MODEL_1ff41db0b4c843e29a504646e64db827",
            "_model_module": "@jupyter-widgets/controls",
            "children": [
              "IPY_MODEL_8951e49f3a974ed8bd37e32a74406c13",
              "IPY_MODEL_8d32da224a3446ba89f8b7c52de13b38",
              "IPY_MODEL_a6b89f250df4430dada81effc06229a2"
            ]
          }
        },
        "1ff41db0b4c843e29a504646e64db827": {
          "model_module": "@jupyter-widgets/base",
          "model_name": "LayoutModel",
          "model_module_version": "1.2.0",
          "state": {
            "_view_name": "LayoutView",
            "grid_template_rows": null,
            "right": null,
            "justify_content": null,
            "_view_module": "@jupyter-widgets/base",
            "overflow": null,
            "_model_module_version": "1.2.0",
            "_view_count": null,
            "flex_flow": null,
            "width": null,
            "min_width": null,
            "border": null,
            "align_items": null,
            "bottom": null,
            "_model_module": "@jupyter-widgets/base",
            "top": null,
            "grid_column": null,
            "overflow_y": null,
            "overflow_x": null,
            "grid_auto_flow": null,
            "grid_area": null,
            "grid_template_columns": null,
            "flex": null,
            "_model_name": "LayoutModel",
            "justify_items": null,
            "grid_row": null,
            "max_height": null,
            "align_content": null,
            "visibility": null,
            "align_self": null,
            "height": null,
            "min_height": null,
            "padding": null,
            "grid_auto_rows": null,
            "grid_gap": null,
            "max_width": null,
            "order": null,
            "_view_module_version": "1.2.0",
            "grid_template_areas": null,
            "object_position": null,
            "object_fit": null,
            "grid_auto_columns": null,
            "margin": null,
            "display": null,
            "left": null
          }
        },
        "8951e49f3a974ed8bd37e32a74406c13": {
          "model_module": "@jupyter-widgets/controls",
          "model_name": "HTMLModel",
          "model_module_version": "1.5.0",
          "state": {
            "_view_name": "HTMLView",
            "style": "IPY_MODEL_989980b530c6416d8198113c6a129719",
            "_dom_classes": [],
            "description": "",
            "_model_name": "HTMLModel",
            "placeholder": "​",
            "_view_module": "@jupyter-widgets/controls",
            "_model_module_version": "1.5.0",
            "value": "Downloading: 100%",
            "_view_count": null,
            "_view_module_version": "1.5.0",
            "description_tooltip": null,
            "_model_module": "@jupyter-widgets/controls",
            "layout": "IPY_MODEL_c64ea96a0fe34aaa83540016df92174b"
          }
        },
        "8d32da224a3446ba89f8b7c52de13b38": {
          "model_module": "@jupyter-widgets/controls",
          "model_name": "FloatProgressModel",
          "model_module_version": "1.5.0",
          "state": {
            "_view_name": "ProgressView",
            "style": "IPY_MODEL_87dd62bca2c340538b9f8fe08644ff12",
            "_dom_classes": [],
            "description": "",
            "_model_name": "FloatProgressModel",
            "bar_style": "success",
            "max": 292,
            "_view_module": "@jupyter-widgets/controls",
            "_model_module_version": "1.5.0",
            "value": 292,
            "_view_count": null,
            "_view_module_version": "1.5.0",
            "orientation": "horizontal",
            "min": 0,
            "description_tooltip": null,
            "_model_module": "@jupyter-widgets/controls",
            "layout": "IPY_MODEL_4413fdbf1d4b45df990d0cb13e880d75"
          }
        },
        "a6b89f250df4430dada81effc06229a2": {
          "model_module": "@jupyter-widgets/controls",
          "model_name": "HTMLModel",
          "model_module_version": "1.5.0",
          "state": {
            "_view_name": "HTMLView",
            "style": "IPY_MODEL_acf08e3df6d845cb950c79af51566b1a",
            "_dom_classes": [],
            "description": "",
            "_model_name": "HTMLModel",
            "placeholder": "​",
            "_view_module": "@jupyter-widgets/controls",
            "_model_module_version": "1.5.0",
            "value": " 292/292 [00:00&lt;00:00, 6.86kB/s]",
            "_view_count": null,
            "_view_module_version": "1.5.0",
            "description_tooltip": null,
            "_model_module": "@jupyter-widgets/controls",
            "layout": "IPY_MODEL_38431436649f4ab591a2bdb5aebe4e5d"
          }
        },
        "989980b530c6416d8198113c6a129719": {
          "model_module": "@jupyter-widgets/controls",
          "model_name": "DescriptionStyleModel",
          "model_module_version": "1.5.0",
          "state": {
            "_view_name": "StyleView",
            "_model_name": "DescriptionStyleModel",
            "description_width": "",
            "_view_module": "@jupyter-widgets/base",
            "_model_module_version": "1.5.0",
            "_view_count": null,
            "_view_module_version": "1.2.0",
            "_model_module": "@jupyter-widgets/controls"
          }
        },
        "c64ea96a0fe34aaa83540016df92174b": {
          "model_module": "@jupyter-widgets/base",
          "model_name": "LayoutModel",
          "model_module_version": "1.2.0",
          "state": {
            "_view_name": "LayoutView",
            "grid_template_rows": null,
            "right": null,
            "justify_content": null,
            "_view_module": "@jupyter-widgets/base",
            "overflow": null,
            "_model_module_version": "1.2.0",
            "_view_count": null,
            "flex_flow": null,
            "width": null,
            "min_width": null,
            "border": null,
            "align_items": null,
            "bottom": null,
            "_model_module": "@jupyter-widgets/base",
            "top": null,
            "grid_column": null,
            "overflow_y": null,
            "overflow_x": null,
            "grid_auto_flow": null,
            "grid_area": null,
            "grid_template_columns": null,
            "flex": null,
            "_model_name": "LayoutModel",
            "justify_items": null,
            "grid_row": null,
            "max_height": null,
            "align_content": null,
            "visibility": null,
            "align_self": null,
            "height": null,
            "min_height": null,
            "padding": null,
            "grid_auto_rows": null,
            "grid_gap": null,
            "max_width": null,
            "order": null,
            "_view_module_version": "1.2.0",
            "grid_template_areas": null,
            "object_position": null,
            "object_fit": null,
            "grid_auto_columns": null,
            "margin": null,
            "display": null,
            "left": null
          }
        },
        "87dd62bca2c340538b9f8fe08644ff12": {
          "model_module": "@jupyter-widgets/controls",
          "model_name": "ProgressStyleModel",
          "model_module_version": "1.5.0",
          "state": {
            "_view_name": "StyleView",
            "_model_name": "ProgressStyleModel",
            "description_width": "",
            "_view_module": "@jupyter-widgets/base",
            "_model_module_version": "1.5.0",
            "_view_count": null,
            "_view_module_version": "1.2.0",
            "bar_color": null,
            "_model_module": "@jupyter-widgets/controls"
          }
        },
        "4413fdbf1d4b45df990d0cb13e880d75": {
          "model_module": "@jupyter-widgets/base",
          "model_name": "LayoutModel",
          "model_module_version": "1.2.0",
          "state": {
            "_view_name": "LayoutView",
            "grid_template_rows": null,
            "right": null,
            "justify_content": null,
            "_view_module": "@jupyter-widgets/base",
            "overflow": null,
            "_model_module_version": "1.2.0",
            "_view_count": null,
            "flex_flow": null,
            "width": null,
            "min_width": null,
            "border": null,
            "align_items": null,
            "bottom": null,
            "_model_module": "@jupyter-widgets/base",
            "top": null,
            "grid_column": null,
            "overflow_y": null,
            "overflow_x": null,
            "grid_auto_flow": null,
            "grid_area": null,
            "grid_template_columns": null,
            "flex": null,
            "_model_name": "LayoutModel",
            "justify_items": null,
            "grid_row": null,
            "max_height": null,
            "align_content": null,
            "visibility": null,
            "align_self": null,
            "height": null,
            "min_height": null,
            "padding": null,
            "grid_auto_rows": null,
            "grid_gap": null,
            "max_width": null,
            "order": null,
            "_view_module_version": "1.2.0",
            "grid_template_areas": null,
            "object_position": null,
            "object_fit": null,
            "grid_auto_columns": null,
            "margin": null,
            "display": null,
            "left": null
          }
        },
        "acf08e3df6d845cb950c79af51566b1a": {
          "model_module": "@jupyter-widgets/controls",
          "model_name": "DescriptionStyleModel",
          "model_module_version": "1.5.0",
          "state": {
            "_view_name": "StyleView",
            "_model_name": "DescriptionStyleModel",
            "description_width": "",
            "_view_module": "@jupyter-widgets/base",
            "_model_module_version": "1.5.0",
            "_view_count": null,
            "_view_module_version": "1.2.0",
            "_model_module": "@jupyter-widgets/controls"
          }
        },
        "38431436649f4ab591a2bdb5aebe4e5d": {
          "model_module": "@jupyter-widgets/base",
          "model_name": "LayoutModel",
          "model_module_version": "1.2.0",
          "state": {
            "_view_name": "LayoutView",
            "grid_template_rows": null,
            "right": null,
            "justify_content": null,
            "_view_module": "@jupyter-widgets/base",
            "overflow": null,
            "_model_module_version": "1.2.0",
            "_view_count": null,
            "flex_flow": null,
            "width": null,
            "min_width": null,
            "border": null,
            "align_items": null,
            "bottom": null,
            "_model_module": "@jupyter-widgets/base",
            "top": null,
            "grid_column": null,
            "overflow_y": null,
            "overflow_x": null,
            "grid_auto_flow": null,
            "grid_area": null,
            "grid_template_columns": null,
            "flex": null,
            "_model_name": "LayoutModel",
            "justify_items": null,
            "grid_row": null,
            "max_height": null,
            "align_content": null,
            "visibility": null,
            "align_self": null,
            "height": null,
            "min_height": null,
            "padding": null,
            "grid_auto_rows": null,
            "grid_gap": null,
            "max_width": null,
            "order": null,
            "_view_module_version": "1.2.0",
            "grid_template_areas": null,
            "object_position": null,
            "object_fit": null,
            "grid_auto_columns": null,
            "margin": null,
            "display": null,
            "left": null
          }
        }
      }
    }
  },
  "cells": [
    {
      "cell_type": "markdown",
      "metadata": {
        "id": "S4sXVEbEyERS"
      },
      "source": [
        "# Intro\n",
        "\n",
        "We have a binary classification problem, given a fact we must acknowledge wether it is verifiable or not.\n",
        "\n",
        "First, we will setup the environment, install the necessary dependencies, download the dataset and explore it to get a grasp of its nuances. Then we will prepare the dataset for training, creating the necessary splits to train a BERT based model and, at the end, we will evaluate it and perform a small error analysis.\n",
        "\n",
        "This notebook calls the necessary steps and explains the results obtained. The full source code and instructions to perform the process locally or on your own Colab can be found in the following github repository: https://github.com/geblanco/newtral_technical_test\n",
        "\n",
        "## Choosing the model\n",
        "\n",
        "This is a crucial step on every process involving machine learning, briefly, after a first researching step (not reported here) we will employ a RoBERTa-based model pre-trained in spanish from the ground up (found [here](https://huggingface.co/bertin-project/bertin-roberta-base-spanish)). Albeit being very novel, this model achieves very good results in spanish and is, to the best of our knowledge, the first realistic attempt to create a pre-trained model in spanish."
      ]
    },
    {
      "cell_type": "code",
      "metadata": {
        "id": "745-TmZAIZw2"
      },
      "source": [
        "# base modules\n",
        "import os\n",
        "import sys\n",
        "import pandas as pd\n",
        "from pathlib import Path"
      ],
      "execution_count": 1,
      "outputs": []
    },
    {
      "cell_type": "code",
      "metadata": {
        "id": "iG2F0h50IEKO"
      },
      "source": [
        "# constants\n",
        "base_dir = Path(\"/content/newtral_technical_test/\")\n",
        "data_url = \"https://ml-coding-test.s3.eu-west-1.amazonaws.com/ml_test_data.csv\"\n",
        "data_dir = base_dir.joinpath(\"data\")\n",
        "data_file = data_dir.joinpath(\"ml_test_data.csv\")\n",
        "models_dir = Path(\"/content/drive/My Drive/Colab Notebooks/models\")\n",
        "model_name = \"bertin-project/bertin-roberta-base-spanish\""
      ],
      "execution_count": 2,
      "outputs": []
    },
    {
      "cell_type": "code",
      "metadata": {
        "colab": {
          "base_uri": "https://localhost:8080/"
        },
        "id": "6GtCYZ-t6htw",
        "outputId": "2b7f89ce-2ab5-4e21-f44c-c17b6657c776"
      },
      "source": [
        "# setup storage\n",
        "from google.colab import drive\n",
        "drive.mount(\"/content/drive\")"
      ],
      "execution_count": 3,
      "outputs": [
        {
          "output_type": "stream",
          "name": "stdout",
          "text": [
            "Mounted at /content/drive\n"
          ]
        }
      ]
    },
    {
      "cell_type": "code",
      "metadata": {
        "colab": {
          "base_uri": "https://localhost:8080/"
        },
        "id": "iIetQ4cgG2gj",
        "outputId": "1fbf3be9-98c3-45fb-c56a-4bd1563ba71c"
      },
      "source": [
        "# get code\n",
        "![[ ! -d \"newtral_technical_test\" ]] && git clone https://github.com/geblanco/newtral_technical_test"
      ],
      "execution_count": 4,
      "outputs": [
        {
          "output_type": "stream",
          "name": "stdout",
          "text": [
            "Cloning into 'newtral_technical_test'...\n",
            "remote: Enumerating objects: 28, done.\u001b[K\n",
            "remote: Counting objects: 100% (28/28), done.\u001b[K\n",
            "remote: Compressing objects: 100% (21/21), done.\u001b[K\n",
            "remote: Total 28 (delta 10), reused 22 (delta 7), pack-reused 0\u001b[K\n",
            "Unpacking objects: 100% (28/28), done.\n"
          ]
        }
      ]
    },
    {
      "cell_type": "code",
      "metadata": {
        "colab": {
          "base_uri": "https://localhost:8080/"
        },
        "id": "sY0-9fw3HOa_",
        "outputId": "5aef7147-f267-4b11-9d68-167e66a0bf36"
      },
      "source": [
        "os.chdir(\"newtral_technical_test\")\n",
        "!pwd\n",
        "sys.path.append(\"./src\")"
      ],
      "execution_count": 5,
      "outputs": [
        {
          "output_type": "stream",
          "name": "stdout",
          "text": [
            "/content/newtral_technical_test\n"
          ]
        }
      ]
    },
    {
      "cell_type": "code",
      "metadata": {
        "colab": {
          "base_uri": "https://localhost:8080/"
        },
        "id": "_2ZJ4KQOHhRn",
        "outputId": "693ba8d7-20c0-4ee0-aa5b-67800efe88d6"
      },
      "source": [
        "!pip install -q -r requirements.txt"
      ],
      "execution_count": 6,
      "outputs": [
        {
          "output_type": "stream",
          "name": "stdout",
          "text": [
            "\u001b[?25l\r\u001b[K     |████▍                           | 10 kB 23.9 MB/s eta 0:00:01\r\u001b[K     |████████▊                       | 20 kB 19.6 MB/s eta 0:00:01\r\u001b[K     |█████████████▏                  | 30 kB 11.1 MB/s eta 0:00:01\r\u001b[K     |█████████████████▌              | 40 kB 9.2 MB/s eta 0:00:01\r\u001b[K     |██████████████████████          | 51 kB 4.2 MB/s eta 0:00:01\r\u001b[K     |██████████████████████████▎     | 61 kB 4.5 MB/s eta 0:00:01\r\u001b[K     |██████████████████████████████▊ | 71 kB 4.7 MB/s eta 0:00:01\r\u001b[K     |████████████████████████████████| 74 kB 2.0 MB/s \n",
            "\u001b[K     |████████████████████████████████| 302 kB 8.4 MB/s \n",
            "\u001b[K     |████████████████████████████████| 2.9 MB 45.9 MB/s \n",
            "\u001b[K     |████████████████████████████████| 112 kB 47.8 MB/s \n",
            "\u001b[K     |████████████████████████████████| 636 kB 46.1 MB/s \n",
            "\u001b[K     |████████████████████████████████| 80 kB 9.1 MB/s \n",
            "\u001b[K     |████████████████████████████████| 208 kB 56.3 MB/s \n",
            "\u001b[K     |████████████████████████████████| 895 kB 48.6 MB/s \n",
            "\u001b[K     |████████████████████████████████| 3.3 MB 14.8 MB/s \n",
            "\u001b[K     |████████████████████████████████| 52 kB 1.6 MB/s \n",
            "\u001b[K     |████████████████████████████████| 75 kB 4.3 MB/s \n",
            "\u001b[K     |████████████████████████████████| 49 kB 6.0 MB/s \n",
            "\u001b[K     |████████████████████████████████| 144 kB 49.5 MB/s \n",
            "\u001b[K     |████████████████████████████████| 111 kB 46.0 MB/s \n",
            "\u001b[?25h  Building wheel for antlr4-python3-runtime (setup.py) ... \u001b[?25l\u001b[?25hdone\n",
            "  Building wheel for pyperclip (setup.py) ... \u001b[?25l\u001b[?25hdone\n"
          ]
        }
      ]
    },
    {
      "cell_type": "code",
      "metadata": {
        "colab": {
          "base_uri": "https://localhost:8080/"
        },
        "id": "oEKaPWWGH8ln",
        "outputId": "2445694c-5646-4b73-8711-c8b0153c9d04"
      },
      "source": [
        "# download data\n",
        "from dl_data import maybe_download\n",
        "maybe_download(data_url, data_dir, overwrite=True)"
      ],
      "execution_count": 7,
      "outputs": [
        {
          "output_type": "stream",
          "name": "stdout",
          "text": [
            "Downloading https://ml-coding-test.s3.eu-west-1.amazonaws.com/ml_test_data.csv\n",
            "Writing /content/newtral_technical_test/data/ml_test_data.csv\n"
          ]
        }
      ]
    },
    {
      "cell_type": "markdown",
      "metadata": {
        "id": "hFwr6ZQBJzuq"
      },
      "source": [
        "# Data exploration\n",
        "\n",
        "We are given a dataset entailing facts and a flag indicating whether the fact is verifiable or not (classes 1/0 respectively).\n",
        "\n",
        "To get familiarized with the data we will explore:\n",
        "- number of examples\n",
        "- repeated examples\n",
        "- class representation\n",
        "\n",
        "To do so, we will use `pandas`, it provides many easy to use data manipulation tools."
      ]
    },
    {
      "cell_type": "code",
      "metadata": {
        "colab": {
          "base_uri": "https://localhost:8080/"
        },
        "id": "aXbFjUeeI6Iu",
        "outputId": "ac25aa5f-f962-44cc-8cf2-35b3ae6eddd3"
      },
      "source": [
        "# load data\n",
        "data = pd.read_csv(data_file)\n",
        "print(f\"Number of examples: {len(data)}\")\n",
        "print(f\"Number of invalid examples: {data[\"text\"].isnull().sum()}\")\n",
        "print(\"First samples:\")\n",
        "print(f\"{data.head()}\\n\")\n",
        "print(\"Some stats:\")\n",
        "print(f\"{data.describe()}\\n\")\n",
        "# remove duplicates: compare lowercased sentences\n",
        "lower = data.copy()\n",
        "lower[\"text\"] = lower[\"text\"].apply(lambda x: x.lower())\n",
        "dups = lower.duplicated()\n",
        "print(f\"Number of duplicates {len(dups[dups == True])}\")\n",
        "data.drop(dups[dups == True].index, inplace=True)\n",
        "data.to_csv(data_file)"
      ],
      "execution_count": 8,
      "outputs": [
        {
          "output_type": "stream",
          "name": "stdout",
          "text": [
            "Number of examples: 15000\n",
            "Number of invalid examples: text     0\n",
            "claim    0\n",
            "dtype: int64\n",
            "First samples:\n",
            "                                                text  claim\n",
            "0          Le hace la primera pregunta Lucía Méndez?      0\n",
            "1  También debo decir que nunca, nunca se se habl...      0\n",
            "2  Y ahora lo que estamos viendo efectivamente es...      0\n",
            "3  Por ejemplo el secretario de Defensa norteamer...      0\n",
            "4  Y en Radio y Televisión Española afortunadamen...      0\n",
            "\n",
            "Some stats:\n",
            "              claim\n",
            "count  15000.000000\n",
            "mean       0.072067\n",
            "std        0.258607\n",
            "min        0.000000\n",
            "25%        0.000000\n",
            "50%        0.000000\n",
            "75%        0.000000\n",
            "max        1.000000\n",
            "\n",
            "Number of duplicates 5\n"
          ]
        }
      ]
    },
    {
      "cell_type": "markdown",
      "metadata": {
        "id": "nzHFKTPUMORz"
      },
      "source": [
        "# First conclusions on the data\n",
        "\n",
        "From the previous exploration we see that there are no invalid examples and that sentences look already clean, so there is no need to clean it further. Additionally, there is a reasonable number of examples to train a Deep Learning model (though more examples could be better), and only a few examples are repeated.\n",
        "\n",
        "Finally, from the stats we see that there are around 7.2% of verifiable examples (mean == 0.072067), and around 92.8% of unverifiable examples present in the dataset. This is worrying as a it will make generalization more difficult, is easy to learn to always respond that the example is unverifiable and still get around 92% of accuracy.\n",
        "\n",
        "A clear conclusion is that `accuracy` metric won't be representative to evaluate the model and that is crucial to ensure class proportions are preserved in the splits we create out of the original dataset.\n"
      ]
    },
    {
      "cell_type": "markdown",
      "metadata": {
        "id": "aQ-B3ehMzJJR"
      },
      "source": [
        "# Data preparation\n",
        "\n",
        "In this section we will divide the dataset into splits for training and evaluating the model and get numeric-based features out of each sentence (embed each sentence) so that the model can ingest it.\n",
        "\n",
        "We will create three splits: train/dev/test with the following proportions: 70% train, 10% validation and 20% test split. To do so and still keep the original class proportions we can use the `StratifiedShuffleSplit` function from `sklearn`. The full source code can be found [here](https://github.com/geblanco/newtral_technical_test/blob/master/src/prepare_data.py#L82)\n",
        "\n",
        "Creating the features is just a matter of passing each sentence through the embedding model, in this case a RoBERTa-based spanish one.\n",
        "\n",
        "After the whole process we will end up wit the following tree structure:\n",
        "```sh\n",
        "data\n",
        "├── cached_dev.csv_RobertaTokenizerFast\n",
        "├── cached_test.csv_RobertaTokenizerFast\n",
        "├── cached_train.csv_RobertaTokenizerFast\n",
        "├── dev.csv\n",
        "├── ml_test_data.csv\n",
        "├── test.csv\n",
        "└── train.csv\n",
        "```"
      ]
    },
    {
      "cell_type": "code",
      "metadata": {
        "colab": {
          "base_uri": "https://localhost:8080/",
          "height": 368,
          "referenced_widgets": [
            "0e1d23bce2914f7baff1a40177dee8bb",
            "46ba7a1fdc5146a296b7a783564b034d",
            "a372164adaef4bae85467dba500e05d6",
            "b07f1ea16c9248dfaf47ba798e36387e",
            "3e595d39fb634c939c63f16d02d00ede",
            "7992ba985a0c45f385bdd2a2b9f0d10a",
            "8f92e8307d614f248d5ee5e8caf92497",
            "20772c158c624001b995dfaa590f4df5",
            "dd9a14a2837b4a3196f821159ea207df",
            "eede140961024c79967da55ad5e1d02d",
            "5aeeb4dc4bec48c2a37cf4049c245f55",
            "346f704c84ef4725972c586bb0eae9d9",
            "b83bf0e34382482f866d0ceb347054ec",
            "5178e50a272e42afa71497a4b72afce3",
            "4619ff5d2a02425689de8a74ab9ef8df",
            "3fcf93941f7148a2ba03b78b4380fcf6",
            "dbdaae1dceec42d6b0aea3174e357cd4",
            "f5b8d8844a8746c79be0161b806e3594",
            "5d6ffe1ad57847e3b2af65acc704c7cf",
            "96c469d7c88c4dd69e34ebc3047a3f04",
            "e73f53e219f24817a16fd0037677cdc3",
            "29a1e713bc004656aa8bd7fd3c21d3b8",
            "848c33b665764b4aa9fdb9360e46e83b",
            "4bcaa08c4a87400e8dd89af473aa7821",
            "c7b3fa4816e64fcd8c79bddbba262061",
            "d20911a0e78d47da98887fd5895541e0",
            "9102287fdc404255b8d88fd7c0f2fe9b",
            "c1a4407ef59b433f8bc5208d18a56e3a",
            "8fdc2ba95c244786ac3c3b5db1d07335",
            "1e67a762eb03452fa5fbe8ee3c2d2095",
            "b462f308f6c049b89ce5feec7b8867cb",
            "59e99e5f940f47178936970b2dbd2140",
            "2391f253aca9468d95e1396126b86a38",
            "22dca9df09c64136b51ca405d669cab2",
            "44890d2b063345648e76cd0a446db252",
            "dd09107d8d6d4e10872f1f3d81c5792a",
            "26ccceb6deba4c74b2b8897bae134c04",
            "41a034e6bf8f4e2cbb670138b9a7ee6c",
            "c786f24543a84fdf8a3fb9dac1d69827",
            "681faf25963641d0887fe6c61f3bbaea",
            "1852f70765ed418ebf8ac5645dcec6a3",
            "6a02d3121d1d4673990fc5af183c4947",
            "65ef3284cb4745ed8b39c699547f087a",
            "32e966f126ee4ed98ecbed08130ee765",
            "5f33075a0e0f41ceb241284c14d1ab7e",
            "1ff41db0b4c843e29a504646e64db827",
            "8951e49f3a974ed8bd37e32a74406c13",
            "8d32da224a3446ba89f8b7c52de13b38",
            "a6b89f250df4430dada81effc06229a2",
            "989980b530c6416d8198113c6a129719",
            "c64ea96a0fe34aaa83540016df92174b",
            "87dd62bca2c340538b9f8fe08644ff12",
            "4413fdbf1d4b45df990d0cb13e880d75",
            "acf08e3df6d845cb950c79af51566b1a",
            "38431436649f4ab591a2bdb5aebe4e5d"
          ]
        },
        "id": "2lY8gS3M0Ny3",
        "outputId": "5700a7c1-e80a-4911-f3cb-eab8e1e6a9f7"
      },
      "source": [
        "from transformers import RobertaTokenizerFast\n",
        "\n",
        "from prepare_data import maybe_split\n",
        "from featurize import featurize_files\n",
        "\n",
        "maybe_split(\n",
        "    input_file=data_file,\n",
        "    output_dir=data_dir,\n",
        "    dev_size=0.1,\n",
        "    test_size=0.2,\n",
        "    random_state=42,\n",
        "    overwrite=True\n",
        ")\n",
        "\n",
        "splits = [\"train\", \"dev\", \"test\"]\n",
        "tokenizer = RobertaTokenizerFast.from_pretrained(model_name)\n",
        "split_paths = [data_dir.joinpath(f\"{split}.csv\") for split in splits]\n",
        "featurize_files(\n",
        "    tokenizer=tokenizer,\n",
        "    files=split_paths,\n",
        "    output_dir=data_dir,\n",
        "    overwrite=True\n",
        ")"
      ],
      "execution_count": 9,
      "outputs": [
        {
          "output_type": "stream",
          "name": "stdout",
          "text": [
            "Saved split to /content/newtral_technical_test/data/train.csv\n",
            "Saved split to /content/newtral_technical_test/data/dev.csv\n",
            "Saved split to /content/newtral_technical_test/data/test.csv\n"
          ]
        },
        {
          "output_type": "display_data",
          "data": {
            "application/vnd.jupyter.widget-view+json": {
              "model_id": "0e1d23bce2914f7baff1a40177dee8bb",
              "version_minor": 0,
              "version_major": 2
            },
            "text/plain": [
              "Downloading:   0%|          | 0.00/835k [00:00<?, ?B/s]"
            ]
          },
          "metadata": {}
        },
        {
          "output_type": "display_data",
          "data": {
            "application/vnd.jupyter.widget-view+json": {
              "model_id": "346f704c84ef4725972c586bb0eae9d9",
              "version_minor": 0,
              "version_major": 2
            },
            "text/plain": [
              "Downloading:   0%|          | 0.00/502k [00:00<?, ?B/s]"
            ]
          },
          "metadata": {}
        },
        {
          "output_type": "display_data",
          "data": {
            "application/vnd.jupyter.widget-view+json": {
              "model_id": "848c33b665764b4aa9fdb9360e46e83b",
              "version_minor": 0,
              "version_major": 2
            },
            "text/plain": [
              "Downloading:   0%|          | 0.00/1.40M [00:00<?, ?B/s]"
            ]
          },
          "metadata": {}
        },
        {
          "output_type": "display_data",
          "data": {
            "application/vnd.jupyter.widget-view+json": {
              "model_id": "22dca9df09c64136b51ca405d669cab2",
              "version_minor": 0,
              "version_major": 2
            },
            "text/plain": [
              "Downloading:   0%|          | 0.00/239 [00:00<?, ?B/s]"
            ]
          },
          "metadata": {}
        },
        {
          "output_type": "display_data",
          "data": {
            "application/vnd.jupyter.widget-view+json": {
              "model_id": "5f33075a0e0f41ceb241284c14d1ab7e",
              "version_minor": 0,
              "version_major": 2
            },
            "text/plain": [
              "Downloading:   0%|          | 0.00/292 [00:00<?, ?B/s]"
            ]
          },
          "metadata": {}
        },
        {
          "output_type": "stream",
          "name": "stdout",
          "text": [
            "Creating features for /content/newtral_technical_test/data/train.csv\n"
          ]
        },
        {
          "output_type": "stream",
          "name": "stderr",
          "text": [
            "/usr/local/lib/python3.7/dist-packages/transformers/tokenization_utils_base.py:2227: UserWarning: `max_length` is ignored when `padding`=`True`.\n",
            "  warnings.warn(\"`max_length` is ignored when `padding`=`True`.\")\n"
          ]
        },
        {
          "output_type": "stream",
          "name": "stdout",
          "text": [
            "Saving features to /content/newtral_technical_test/data/cached_train.csv_RobertaTokenizerFast\n",
            "Creating features for /content/newtral_technical_test/data/dev.csv\n",
            "Saving features to /content/newtral_technical_test/data/cached_dev.csv_RobertaTokenizerFast\n",
            "Creating features for /content/newtral_technical_test/data/test.csv\n",
            "Saving features to /content/newtral_technical_test/data/cached_test.csv_RobertaTokenizerFast\n"
          ]
        }
      ]
    },
    {
      "cell_type": "markdown",
      "metadata": {
        "id": "PvoBWrNr5moT"
      },
      "source": [
        "# Model training\n",
        "\n",
        "---\n",
        "\n",
        "__Disclaimer__: Due to Google Colab restrictions, the whole hyper-parameter/train procedure is slow and the kernel disconnects. To perform it correctly, it requires saving and restoring the state. To avoid this, we will depict the process here, but do the training offline.\n",
        "\n",
        "---\n",
        "\n",
        "Next, we want to train the model on the featurized dataset created above. To get the best out of our model we will perform some hyper-parameter tuning, `hf Trainer` class already supports this, we just have to setup the parameters to search for ([SOURCE CODE](https://github.com/geblanco/newtral_technical_test/blob/master/src/hypersearch.py)).\n",
        "\n",
        "We will tune the following hyper-parameters:\n",
        "- `learning_rate`: Between `1e-4 and 1e-2`\n",
        "- `num_train_epochs`: Between `1` and `5`\n",
        "- `per_device_train_batch_size`: In the range `[4, 8, 16, 32]`\n",
        "- `gradient_accumulation_steps`: Between `1` and `2`\n",
        "\n",
        "The [training script](https://github.com/geblanco/newtral_technical_test/blob/master/src/modeling.py) does exactly this. In essence, it will try each parameter, train the model, evaluate it on the development set and repeat. After the process is completed, we retrieve the best model and save the winning parameters to [config.yaml](https://github.com/geblanco/newtral_technical_test/blob/master/config.yaml).\n",
        "\n",
        "When training models that depend upon randomly initialized parameters, we must take into account that the results can be hugely influenced by that specific initialization and other initializations perform poorly. In other words, it is a spurious result and hence, not representative of the models real performance. To overcome this, we will report the results averaged across `n` different models, each one trained with the same hyper-parameters, but different initialization, that is, changing the seed for each training (also, saving the seed of the best model aids in reproducibility later). In this case, we will fix `n = 10`.\n",
        "\n",
        "This procedure can be launched locally by issueing:\n",
        "```bash\n",
        "python src/modeling.py data --output_dir models --hypersearch validation_steps=10\n",
        "```\n",
        "\n",
        "Summarizing, it will do:\n",
        "- search the best hyper-parameters.\n",
        "- train 10 different models with the best parameters.\n",
        "- save the best out of those 10 models."
      ]
    },
    {
      "cell_type": "markdown",
      "metadata": {
        "id": "C4zzGeg_Em0W"
      },
      "source": [
        "# Model evaluation\n",
        "\n",
        "We will evaluate the model with the test dataset and measure global, micro and macro accuracy, global and per class f1 score, precision and recal for each class."
      ]
    },
    {
      "cell_type": "code",
      "metadata": {
        "id": "DN6t4zJ8Feod"
      },
      "source": [
        "# first, some imports\n",
        "import yaml\n",
        "import json\n",
        "import torch\n",
        "import warnings\n",
        "import argparse\n",
        "\n",
        "from sklearn.metrics import (\n",
        "    f1_score,\n",
        "    accuracy_score,\n",
        "    classification_report,\n",
        ")\n",
        "from transformers import (\n",
        "    Trainer,\n",
        "    TrainingArguments,\n",
        "    RobertaTokenizerFast,\n",
        "    RobertaForSequenceClassification,\n",
        ")\n",
        "\n",
        "from data_classes import FactsDataset\n",
        "from modeling import compute_metrics"
      ],
      "execution_count": 10,
      "outputs": []
    },
    {
      "cell_type": "code",
      "metadata": {
        "id": "acGH-QR58H51"
      },
      "source": [
        "# utility function to load featurized dataset\n",
        "def load_dataset(file_path):\n",
        "    data_dict = torch.load(file_path)\n",
        "    dataset = FactsDataset(\n",
        "        features=data_dict[\"features\"],\n",
        "        labels=data_dict[\"labels\"]\n",
        "    )\n",
        "    return dataset"
      ],
      "execution_count": 11,
      "outputs": []
    },
    {
      "cell_type": "code",
      "metadata": {
        "colab": {
          "base_uri": "https://localhost:8080/",
          "height": 454
        },
        "id": "hIOF_rWu7wea",
        "outputId": "1af0d6a7-d011-41d0-a3e3-426c9d9133ab"
      },
      "source": [
        "train_dataset = load_dataset(data_dir.joinpath(\"cached_train.csv_RobertaTokenizerFast\"))\n",
        "dev_dataset = load_dataset(data_dir.joinpath(\"cached_dev.csv_RobertaTokenizerFast\"))\n",
        "test_dataset = load_dataset(data_dir.joinpath(\"cached_test.csv_RobertaTokenizerFast\"))\n",
        "\n",
        "train_params = yaml.safe_load(open(\"./config.yaml\", \"r\"))[\"params\"]\n",
        "model_path = models_dir.joinpath(model_name)\n",
        "model = RobertaForSequenceClassification.from_pretrained(model_path).to(\"cuda:0\")\n",
        "training_args = TrainingArguments(\n",
        "    **train_params,\n",
        "    output_dir=models_dir,\n",
        "    save_strategy=\"no\",\n",
        "    evaluation_strategy=\"no\",\n",
        ")\n",
        "\n",
        "trainer = Trainer(\n",
        "    model=model,\n",
        "    args=training_args,\n",
        "    train_dataset=train_dataset,\n",
        "    eval_dataset=dev_dataset,\n",
        "    compute_metrics=compute_metrics,\n",
        ")\n",
        "# evaluate the model\n",
        "print(\"Evaluating model...\")\n",
        "model_path = models_dir.joinpath(model_name)\n",
        "preds = trainer.predict(test_dataset)\n",
        "compute_metrics(preds, print_results=True)\n",
        "print(json.dumps(preds.metrics, indent=2) + \"\\n\")"
      ],
      "execution_count": 12,
      "outputs": [
        {
          "output_type": "stream",
          "name": "stderr",
          "text": [
            "***** Running Prediction *****\n",
            "  Num examples = 1000\n",
            "  Batch size = 64\n"
          ]
        },
        {
          "output_type": "stream",
          "name": "stdout",
          "text": [
            "Evaluating model...\n"
          ]
        },
        {
          "output_type": "display_data",
          "data": {
            "text/html": [
              "\n",
              "    <div>\n",
              "      \n",
              "      <progress value='16' max='16' style='width:300px; height:20px; vertical-align: middle;'></progress>\n",
              "      [16/16 00:15]\n",
              "    </div>\n",
              "    "
            ],
            "text/plain": [
              "<IPython.core.display.HTML object>"
            ]
          },
          "metadata": {}
        },
        {
          "output_type": "stream",
          "name": "stdout",
          "text": [
            "              precision    recall  f1-score   support\n",
            "\n",
            "           0       0.99      0.99      0.99       925\n",
            "           1       0.92      0.81      0.87        75\n",
            "\n",
            "    accuracy                           0.98      1000\n",
            "   macro avg       0.95      0.90      0.93      1000\n",
            "weighted avg       0.98      0.98      0.98      1000\n",
            "\n",
            "{\n",
            "  \"test_loss\": 0.05722203105688095,\n",
            "  \"test_acc\": 0.981,\n",
            "  \"test_f1\": 0.8652482269503545,\n",
            "  \"test_macro\": 0.9275138391341338,\n",
            "  \"test_micro\": 0.9810000000000001,\n",
            "  \"test_runtime\": 16.3188,\n",
            "  \"test_samples_per_second\": 61.279,\n",
            "  \"test_steps_per_second\": 0.98\n",
            "}\n",
            "\n"
          ]
        }
      ]
    },
    {
      "cell_type": "markdown",
      "metadata": {
        "id": "jhv9H6JZJwkp"
      },
      "source": [
        "# Interpretation of results\n",
        "\n",
        "Looking solely at accuracy tells us that the model performs pretty well (`98.1%`), but as we have a very unbalanced dataset, it is not very reliable. Instead, we should probably look at global f1 score (`~ 0.865`), that balances precision-recall. Though it is not bad, there is much room for improvement.\n",
        "\n",
        "Also, micro and macro accuracy tell us two things: taking into account how much examples of each class there are, the model performs reasonably well, but the metric is dominated by one of the classes. As we don't know the risk of incorrecly classifying an example, is difficult to asses the cost of putting this model to production.\n",
        "\n",
        "Digging deeper on each class' performance, the model performs very well on unverifiable facts (class 0, `f1 = 0.99`), but is definitely improvable on verifiable facts (class 1, `f1 = 0.87`), in this case, it is failing to identify them (low recall on class 1), misclasifying them as class 0 examples. This could be due to the model failing to capture meaningful enough features for each class' examples and because there are so few examples of verifiable facts. The model is struggling to learn them correctly and more examples would probably help."
      ]
    },
    {
      "cell_type": "markdown",
      "metadata": {
        "id": "L7PKm29GLGnZ"
      },
      "source": [
        "# Error analysis\n",
        "\n",
        "We will extract predictions from the test set and see some correct and incorrectly classified examples both for class 1 and 0."
      ]
    },
    {
      "cell_type": "code",
      "metadata": {
        "colab": {
          "base_uri": "https://localhost:8080/"
        },
        "id": "0jM-n3FJWl0x",
        "outputId": "666618c5-8c16-430a-aee1-bdab023ff180"
      },
      "source": [
        "import nltk\n",
        "import random\n",
        "import numpy as np\n",
        "import pandas as pd\n",
        "\n",
        "nltk.download('punkt')\n",
        "\n",
        "from nltk.tokenize import word_tokenize\n",
        "from transformers import pipeline, RobertaForSequenceClassification\n",
        "\n",
        "test_data = pd.read_csv(data_dir.joinpath(\"test.csv\"))\n",
        "tokenizer = RobertaTokenizerFast.from_pretrained(\"bertin-project/bertin-roberta-base-spanish\")\n",
        "\n",
        "pipe = pipeline(\"text-classification\", model=model, tokenizer=tokenizer, device=0)\n",
        "texts, labels = data[\"text\"].values.tolist(), data[\"claim\"].values.tolist()\n",
        "\n",
        "preds = pipe(texts)\n",
        "pred_labels = [int(l[\"label\"].split(\"_\")[-1]) for l in preds]"
      ],
      "execution_count": 13,
      "outputs": [
        {
          "output_type": "stream",
          "name": "stdout",
          "text": [
            "[nltk_data] Downloading package punkt to /root/nltk_data...\n",
            "[nltk_data]   Unzipping tokenizers/punkt.zip.\n"
          ]
        },
        {
          "output_type": "stream",
          "name": "stderr",
          "text": [
            "loading file https://huggingface.co/bertin-project/bertin-roberta-base-spanish/resolve/main/vocab.json from cache at /root/.cache/huggingface/transformers/f47efb87887425ef9a4ef795bfaa907d57ac9a650d733c7ca621b9eced3235e8.a80f232f572026f92499b14999a8ed4e044e04cf3d01b9f2be298c98e78e8498\n",
            "loading file https://huggingface.co/bertin-project/bertin-roberta-base-spanish/resolve/main/merges.txt from cache at /root/.cache/huggingface/transformers/aba9e0895dea47dd4208a36012ffd3eb21eb4c5f7ce0be6547afb37cdd4ddef4.a0dfc41f9d0f03a56ba7a5401d770f6e43071045a0bd79073380d408d17a0d92\n",
            "loading file https://huggingface.co/bertin-project/bertin-roberta-base-spanish/resolve/main/tokenizer.json from cache at /root/.cache/huggingface/transformers/baad57d0f574d3e660cafb14601d0ecebe83f25071d59f3e51d225d75285b773.2a5dc806edc00ab3a329cb22b9973596ca75b24ba0e5e4963bf1308de7237a3d\n",
            "loading file https://huggingface.co/bertin-project/bertin-roberta-base-spanish/resolve/main/added_tokens.json from cache at None\n",
            "loading file https://huggingface.co/bertin-project/bertin-roberta-base-spanish/resolve/main/special_tokens_map.json from cache at /root/.cache/huggingface/transformers/68d1fdfe72fdcac403d8f363239c379d8125162f50a954030c4476982f88d69e.a11ebb04664c067c8fe5ef8f8068b0f721263414a26058692f7b2e4ba2a1b342\n",
            "loading file https://huggingface.co/bertin-project/bertin-roberta-base-spanish/resolve/main/tokenizer_config.json from cache at /root/.cache/huggingface/transformers/72bf61c243630a112d8fa8c8d9162f1a5e01fab0602d2f2a7792cecdc0a4986f.9f7ac4246b492dfa7c21beb5233deec8aef46153ec25ac5258ac5e2ae82dfa89\n",
            "Disabling tokenizer parallelism, we're using DataLoader multithreading already\n"
          ]
        }
      ]
    },
    {
      "cell_type": "code",
      "metadata": {
        "id": "ckux1XCde2-7"
      },
      "source": [
        "def pretty_print(sentence, max_len=100):\n",
        "    text = \"\"\n",
        "    curr_sentence = \"\"\n",
        "    sentences = []\n",
        "    tokens = word_tokenize(sentence)\n",
        "    for idx, tok in enumerate(tokens):\n",
        "        if len(curr_sentence) + len(tok) > max_len:\n",
        "            sentences.append(curr_sentence)\n",
        "            curr_sentence = \"\"\n",
        "        \n",
        "        curr_sentence += tok + \" \"\n",
        "        if idx == len(tokens) -1:\n",
        "            sentences.append(curr_sentence)\n",
        "\n",
        "    return \"\\n  \".join(sentences)\n",
        "\n",
        "def print_class(correct, incorrect, class_name, num_samples=5):\n",
        "    print(f\"\\nExamples of {class_name}\")\n",
        "    print(\"=\" * 15)\n",
        "    for samples, name in [(correct, \"correct\"), (incorrect, \"incorrect\")]:\n",
        "        # sample 5 random examples\n",
        "        indices = random.sample(range(len(samples)), k=min(num_samples, len(samples)))\n",
        "        print(name)\n",
        "        for sent in np.array(samples)[indices]:\n",
        "            print(pretty_print(f\"- {sent}\"))\n",
        "\n",
        "        print(\"\\nStats:\")\n",
        "        lens = np.array([len(sent) for sent in samples])\n",
        "        print(f\"Mean sentence length: {round(lens.mean(), 2)}\")\n",
        "        print(f\"Std sentence length: {round(lens.std(), 2)}\")\n",
        "        print(f\"Amount of sentences: {len(samples)}\")\n",
        "        print()"
      ],
      "execution_count": 22,
      "outputs": []
    },
    {
      "cell_type": "code",
      "metadata": {
        "id": "HQDOo4ojum68"
      },
      "source": [
        "# correct examples of class 1\n",
        "correct_class_1 = []\n",
        "# examples of class 1 missclassified as class 0\n",
        "incorrect_class_1 = []\n",
        "\n",
        "# correct examples of class 0\n",
        "correct_class_0 = []\n",
        "# examples of class 0 missclassified as class 1\n",
        "incorrect_class_0 = []\n",
        "\n",
        "for sent, pred_label, label in zip(texts, pred_labels, labels):\n",
        "    correct = label == pred_label\n",
        "    if label and not correct:\n",
        "        incorrect_class_1.append(sent)\n",
        "    elif label and correct:\n",
        "        correct_class_1.append(sent)\n",
        "    elif not label and not correct:\n",
        "        incorrect_class_0.append(sent)\n",
        "    else:\n",
        "        correct_class_0.append(sent)"
      ],
      "execution_count": 15,
      "outputs": []
    },
    {
      "cell_type": "code",
      "metadata": {
        "colab": {
          "base_uri": "https://localhost:8080/"
        },
        "id": "aAeGggoabOlu",
        "outputId": "038524c0-a30f-48c8-87b8-ba5e6443f1a4"
      },
      "source": [
        "print_class(correct_class_1, incorrect_class_1, \"class 1\")\n",
        "print_class(correct_class_0, incorrect_class_0, \"class 0\")"
      ],
      "execution_count": 26,
      "outputs": [
        {
          "output_type": "stream",
          "name": "stdout",
          "text": [
            "\n",
            "Examples of class 1\n",
            "===============\n",
            "correct\n",
            "- Por lo tanto , esto está hecho por meses hasta el 2013 , aproximadamente 2008 , del 8 al 13 14 . \n",
            "- Y es que los repartidores no son empresarios , son trabajadores por cuenta ajena y así tienen que \n",
            "  ser reconocidos . \n",
            "- España o conjunto de Estado emitió una media de un eito coma cinco porciento más de emisiones de \n",
            "  CO2 $ 90 . \n",
            "- Como saben hemos alcanzado velocidad de crucero en la mayor campaña de vacunación de nuestra \n",
            "  historia . \n",
            "- Nosotros aportamos con orgullo el 68 por ciento del Fondo de Garantía de Servicios Públicos \n",
            "  Permanentes Fundamentales , y lo hacemos porque creemos en España y en la unidad nacional . \n",
            "\n",
            "Stats:\n",
            "Mean sentence length: 174.9\n",
            "Std sentence length: 98.37\n",
            "Amount of sentences: 893\n",
            "\n",
            "incorrect\n",
            "- Necesitamos una empresa pública y sería muchísimo más fácil si no fuera porque el Partido Popular \n",
            "  vendió Endesa al Estado italiano y sería más fácil construirlo a partir de ahí . \n",
            "- El tercer mensaje que quiero mandar es que el PP no se siente comprometido a este plan que por \n",
            "  cierto nos enteramos por la prensa porque no ha tenido ni el coraje de presentarlo en el Parlamento \n",
            "  español y de votarlo porque sabe que en Italia esa votación hizo que cayera el Gobierno italiano y \n",
            "  por tanto nosotros sí que tenemos una alternativa alternativa y con eso a cabo que estamos trazando \n",
            "  en esas mesas de expertos . \n",
            "- Quería preguntarle sobre la des escalada , cree que se está haciendo de una manera adecuada viendo \n",
            "  que ayer 10 comunidades autónomas han subido un poco su incidencia acumulada y también sobre el \n",
            "  debate abierto de eliminar la mascarilla a partir de julio en espacios abiertos . \n",
            "- Primaria , no se van a cerrar centros de atención primaria . \n",
            "- Si a mí Carlos , me me da mucha vergüenza presumir de nada , pero llevamos casi 2000 muertos aquí \n",
            "  . \n",
            "\n",
            "Stats:\n",
            "Mean sentence length: 159.74\n",
            "Std sentence length: 93.13\n",
            "Amount of sentences: 188\n",
            "\n",
            "\n",
            "Examples of class 0\n",
            "===============\n",
            "correct\n",
            "- Cuando llegue el momento . \n",
            "- La primera pregunta que le iba a hacer era hasta qué punto estaba usted dispuesto a sacrificar su \n",
            "  intención de no gobernar con independentistas que dejó muy clara en su día ? \n",
            "- Oye , me ha parecido . \n",
            "- Bueno , yo creo que afecta a millones de españoles conscientes que viven en todo el territorio \n",
            "  nacional , pero afecta especialmente a los españoles que viven en Cataluña y que no se han sumado al \n",
            "  golpe separatista . \n",
            "- Y también el sentido ese . \n",
            "\n",
            "Stats:\n",
            "Mean sentence length: 103.68\n",
            "Std sentence length: 86.14\n",
            "Amount of sentences: 13843\n",
            "\n",
            "incorrect\n",
            "- Son más de dos siglos de régimen constitucional en España con con momentos de esplendor momentos \n",
            "  penosos , constituciones buenas , malas reyes mejores reyes peores dictadura democracia etcétera . \n",
            "- Es más que probable que España tenga casi un millón de estudiantes menos entre los tres años y los \n",
            "  24 años . \n",
            "- En otros ya se han lanzado las licitaciones , los programas más novedosos , por ejemplo , en mi \n",
            "  ámbito de la digitalización . \n",
            "- Hemos pedido más ayudas para la hostelería . \n",
            "- Pues desde noviembre estamos con los agentes sociales y vamos a casis más de seis meses \n",
            "  discutiendo en distintas iteraciones . \n",
            "\n",
            "Stats:\n",
            "Mean sentence length: 147.79\n",
            "Std sentence length: 95.2\n",
            "Amount of sentences: 71\n",
            "\n"
          ]
        }
      ]
    },
    {
      "cell_type": "markdown",
      "metadata": {
        "id": "Ui2QXtya1mjy"
      },
      "source": [
        "# Verifiable facts:\n",
        "\n",
        "__Correct:__\n",
        "\n",
        "- Seem to represent facts with numeric evidences, all sentences include the subject or item of the action.\n",
        "- Sentences refer to facts, one speaker outlining a fact, not directly speaking to other person.\n",
        "- A human could identify what the sentence is referring to.\n",
        "\n",
        "__Incorrect:__\n",
        "\n",
        "- Although following the same structure as correctly classified verifiable facts (subject/item included, speaker announcing a fact), in these samples, either the relevant part of the sentence is not the numeric evidence or the sentence is too big.\n",
        "\n",
        "# Unverifiable facts:\n",
        "\n",
        "__Correct:__\n",
        "\n",
        "- Seem to be short or chopped sentences, personal opinions, sentences whose subject of the action is not present or direct questions from the speaker to other parties.\n",
        "- Reading some of those sentences, don't make sense to me.\n",
        "\n",
        "__Incorrect:__\n",
        "\n",
        "- It is remarkable that correctly classified unverifiable facts are shorter than the rest (~50 chars less in average, with a smaller deviation), this might indicate that the model is learning to use the length of the sentence as a meaningful feature to decide whether an example is verifiable or not. In other words, if the sentence is big, it tends to classify it as verifiable, failing to classify some class 0 examples.\n",
        "\n",
        "# Conclusions\n",
        "\n",
        "At sight of these errors and results, I would conclude that the model is heavily relying on making sense out the text, the length of the given sentence, whether or not there are numeric symbols (be it written or digits) and detecting the subject of the action inside the sentence. When some of these features are misleading, the model fails."
      ]
    },
    {
      "cell_type": "markdown",
      "metadata": {
        "id": "gtLEBx4_LJMe"
      },
      "source": [
        "# Final conclusions and further study\n",
        "\n",
        "We were given the task of fine-tuning a BERT based model on a collection entailing verifiable and unverifiable facts in spanish. Being the task in spanish we employed the novel model BERTin, based on the RoBERTa variant of BERT. After searching for the best hyper-parameters and validating the results are not spurious, we obtain a model performing reasonably well. \n",
        "\n",
        "With the proposed solution we see that there is still much room for improvement, following are some ideas that could enhance the model's performance:\n",
        "- Get more features: We could try extracting more features from each sentence (syntactic, semantic analysis) and feeding that to the model along with each sentence.\n",
        "- The dataset is heavily unbalanced, augmenting the data could improve the performance. We could gather more news or train a generative model (gpt-2...)\n",
        "- As the data in spanish is scarce, we could train another model in English with a similar task and transfer learning the weights to our model, though it would require an extra effort to clean the new dataset and adapt the weights to the spanish embedding layer.\n",
        "- Transfer learning from other collection, we could train with a similar collection (i.e.: [FakeNewsCorpusSpanish](https://github.com/jpposadas/FakeNewsCorpusSpanish)) and later train with the given collection, though this won't work if the collection are too different.\n",
        "- We could test other architectures or models, i.e.: [FakeBERT](https://link.springer.com/article/10.1007/s11042-020-10183-2) implements a BERT+LSTM/CNN, though it only performs slightly better that us in accuracy (`98.90` vs `98.1`, it's other collection, but similar task)"
      ]
    }
  ]
}