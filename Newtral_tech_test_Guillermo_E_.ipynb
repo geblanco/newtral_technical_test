{
  "nbformat": 4,
  "nbformat_minor": 0,
  "metadata": {
    "colab": {
      "name": "Newtral tech test - Guillermo E..ipynb",
      "provenance": [],
      "collapsed_sections": [
        "S4sXVEbEyERS",
        "hFwr6ZQBJzuq",
        "aQ-B3ehMzJJR",
        "L7PKm29GLGnZ"
      ],
      "toc_visible": true
    },
    "kernelspec": {
      "name": "python3",
      "display_name": "Python 3"
    },
    "language_info": {
      "name": "python"
    },
    "accelerator": "GPU",
    "widgets": {
      "application/vnd.jupyter.widget-state+json": {
        "65cb1e78a41f41d39d234b7a103ba8a5": {
          "model_module": "@jupyter-widgets/controls",
          "model_name": "HBoxModel",
          "model_module_version": "1.5.0",
          "state": {
            "_view_name": "HBoxView",
            "_dom_classes": [],
            "_model_name": "HBoxModel",
            "_view_module": "@jupyter-widgets/controls",
            "_model_module_version": "1.5.0",
            "_view_count": null,
            "_view_module_version": "1.5.0",
            "box_style": "",
            "layout": "IPY_MODEL_18c0bfaa51f04b8fbbb672d013631462",
            "_model_module": "@jupyter-widgets/controls",
            "children": [
              "IPY_MODEL_7f77e089990a45f3a4d6e9a9a6418591",
              "IPY_MODEL_35dcf06dffb747558bc65fed0483a712",
              "IPY_MODEL_b461e5d742e745e787c4cb8224bc9ec3"
            ]
          }
        },
        "18c0bfaa51f04b8fbbb672d013631462": {
          "model_module": "@jupyter-widgets/base",
          "model_name": "LayoutModel",
          "model_module_version": "1.2.0",
          "state": {
            "_view_name": "LayoutView",
            "grid_template_rows": null,
            "right": null,
            "justify_content": null,
            "_view_module": "@jupyter-widgets/base",
            "overflow": null,
            "_model_module_version": "1.2.0",
            "_view_count": null,
            "flex_flow": null,
            "width": null,
            "min_width": null,
            "border": null,
            "align_items": null,
            "bottom": null,
            "_model_module": "@jupyter-widgets/base",
            "top": null,
            "grid_column": null,
            "overflow_y": null,
            "overflow_x": null,
            "grid_auto_flow": null,
            "grid_area": null,
            "grid_template_columns": null,
            "flex": null,
            "_model_name": "LayoutModel",
            "justify_items": null,
            "grid_row": null,
            "max_height": null,
            "align_content": null,
            "visibility": null,
            "align_self": null,
            "height": null,
            "min_height": null,
            "padding": null,
            "grid_auto_rows": null,
            "grid_gap": null,
            "max_width": null,
            "order": null,
            "_view_module_version": "1.2.0",
            "grid_template_areas": null,
            "object_position": null,
            "object_fit": null,
            "grid_auto_columns": null,
            "margin": null,
            "display": null,
            "left": null
          }
        },
        "7f77e089990a45f3a4d6e9a9a6418591": {
          "model_module": "@jupyter-widgets/controls",
          "model_name": "HTMLModel",
          "model_module_version": "1.5.0",
          "state": {
            "_view_name": "HTMLView",
            "style": "IPY_MODEL_0c7a40898ec7416c8a997d45d6a7ab84",
            "_dom_classes": [],
            "description": "",
            "_model_name": "HTMLModel",
            "placeholder": "​",
            "_view_module": "@jupyter-widgets/controls",
            "_model_module_version": "1.5.0",
            "value": "Downloading: 100%",
            "_view_count": null,
            "_view_module_version": "1.5.0",
            "description_tooltip": null,
            "_model_module": "@jupyter-widgets/controls",
            "layout": "IPY_MODEL_d791a3986d6d4efe8cdc1bc9bdf8ec7e"
          }
        },
        "35dcf06dffb747558bc65fed0483a712": {
          "model_module": "@jupyter-widgets/controls",
          "model_name": "FloatProgressModel",
          "model_module_version": "1.5.0",
          "state": {
            "_view_name": "ProgressView",
            "style": "IPY_MODEL_b2555821492b49eeadf9dee26a3cb080",
            "_dom_classes": [],
            "description": "",
            "_model_name": "FloatProgressModel",
            "bar_style": "success",
            "max": 855467,
            "_view_module": "@jupyter-widgets/controls",
            "_model_module_version": "1.5.0",
            "value": 855467,
            "_view_count": null,
            "_view_module_version": "1.5.0",
            "orientation": "horizontal",
            "min": 0,
            "description_tooltip": null,
            "_model_module": "@jupyter-widgets/controls",
            "layout": "IPY_MODEL_c3f307afee71481187deca4420c5dbf6"
          }
        },
        "b461e5d742e745e787c4cb8224bc9ec3": {
          "model_module": "@jupyter-widgets/controls",
          "model_name": "HTMLModel",
          "model_module_version": "1.5.0",
          "state": {
            "_view_name": "HTMLView",
            "style": "IPY_MODEL_a9288bbe84954479ada49d97973cbaae",
            "_dom_classes": [],
            "description": "",
            "_model_name": "HTMLModel",
            "placeholder": "​",
            "_view_module": "@jupyter-widgets/controls",
            "_model_module_version": "1.5.0",
            "value": " 835k/835k [00:00&lt;00:00, 1.05MB/s]",
            "_view_count": null,
            "_view_module_version": "1.5.0",
            "description_tooltip": null,
            "_model_module": "@jupyter-widgets/controls",
            "layout": "IPY_MODEL_fda45508b02b4a6f80cf622e65135165"
          }
        },
        "0c7a40898ec7416c8a997d45d6a7ab84": {
          "model_module": "@jupyter-widgets/controls",
          "model_name": "DescriptionStyleModel",
          "model_module_version": "1.5.0",
          "state": {
            "_view_name": "StyleView",
            "_model_name": "DescriptionStyleModel",
            "description_width": "",
            "_view_module": "@jupyter-widgets/base",
            "_model_module_version": "1.5.0",
            "_view_count": null,
            "_view_module_version": "1.2.0",
            "_model_module": "@jupyter-widgets/controls"
          }
        },
        "d791a3986d6d4efe8cdc1bc9bdf8ec7e": {
          "model_module": "@jupyter-widgets/base",
          "model_name": "LayoutModel",
          "model_module_version": "1.2.0",
          "state": {
            "_view_name": "LayoutView",
            "grid_template_rows": null,
            "right": null,
            "justify_content": null,
            "_view_module": "@jupyter-widgets/base",
            "overflow": null,
            "_model_module_version": "1.2.0",
            "_view_count": null,
            "flex_flow": null,
            "width": null,
            "min_width": null,
            "border": null,
            "align_items": null,
            "bottom": null,
            "_model_module": "@jupyter-widgets/base",
            "top": null,
            "grid_column": null,
            "overflow_y": null,
            "overflow_x": null,
            "grid_auto_flow": null,
            "grid_area": null,
            "grid_template_columns": null,
            "flex": null,
            "_model_name": "LayoutModel",
            "justify_items": null,
            "grid_row": null,
            "max_height": null,
            "align_content": null,
            "visibility": null,
            "align_self": null,
            "height": null,
            "min_height": null,
            "padding": null,
            "grid_auto_rows": null,
            "grid_gap": null,
            "max_width": null,
            "order": null,
            "_view_module_version": "1.2.0",
            "grid_template_areas": null,
            "object_position": null,
            "object_fit": null,
            "grid_auto_columns": null,
            "margin": null,
            "display": null,
            "left": null
          }
        },
        "b2555821492b49eeadf9dee26a3cb080": {
          "model_module": "@jupyter-widgets/controls",
          "model_name": "ProgressStyleModel",
          "model_module_version": "1.5.0",
          "state": {
            "_view_name": "StyleView",
            "_model_name": "ProgressStyleModel",
            "description_width": "",
            "_view_module": "@jupyter-widgets/base",
            "_model_module_version": "1.5.0",
            "_view_count": null,
            "_view_module_version": "1.2.0",
            "bar_color": null,
            "_model_module": "@jupyter-widgets/controls"
          }
        },
        "c3f307afee71481187deca4420c5dbf6": {
          "model_module": "@jupyter-widgets/base",
          "model_name": "LayoutModel",
          "model_module_version": "1.2.0",
          "state": {
            "_view_name": "LayoutView",
            "grid_template_rows": null,
            "right": null,
            "justify_content": null,
            "_view_module": "@jupyter-widgets/base",
            "overflow": null,
            "_model_module_version": "1.2.0",
            "_view_count": null,
            "flex_flow": null,
            "width": null,
            "min_width": null,
            "border": null,
            "align_items": null,
            "bottom": null,
            "_model_module": "@jupyter-widgets/base",
            "top": null,
            "grid_column": null,
            "overflow_y": null,
            "overflow_x": null,
            "grid_auto_flow": null,
            "grid_area": null,
            "grid_template_columns": null,
            "flex": null,
            "_model_name": "LayoutModel",
            "justify_items": null,
            "grid_row": null,
            "max_height": null,
            "align_content": null,
            "visibility": null,
            "align_self": null,
            "height": null,
            "min_height": null,
            "padding": null,
            "grid_auto_rows": null,
            "grid_gap": null,
            "max_width": null,
            "order": null,
            "_view_module_version": "1.2.0",
            "grid_template_areas": null,
            "object_position": null,
            "object_fit": null,
            "grid_auto_columns": null,
            "margin": null,
            "display": null,
            "left": null
          }
        },
        "a9288bbe84954479ada49d97973cbaae": {
          "model_module": "@jupyter-widgets/controls",
          "model_name": "DescriptionStyleModel",
          "model_module_version": "1.5.0",
          "state": {
            "_view_name": "StyleView",
            "_model_name": "DescriptionStyleModel",
            "description_width": "",
            "_view_module": "@jupyter-widgets/base",
            "_model_module_version": "1.5.0",
            "_view_count": null,
            "_view_module_version": "1.2.0",
            "_model_module": "@jupyter-widgets/controls"
          }
        },
        "fda45508b02b4a6f80cf622e65135165": {
          "model_module": "@jupyter-widgets/base",
          "model_name": "LayoutModel",
          "model_module_version": "1.2.0",
          "state": {
            "_view_name": "LayoutView",
            "grid_template_rows": null,
            "right": null,
            "justify_content": null,
            "_view_module": "@jupyter-widgets/base",
            "overflow": null,
            "_model_module_version": "1.2.0",
            "_view_count": null,
            "flex_flow": null,
            "width": null,
            "min_width": null,
            "border": null,
            "align_items": null,
            "bottom": null,
            "_model_module": "@jupyter-widgets/base",
            "top": null,
            "grid_column": null,
            "overflow_y": null,
            "overflow_x": null,
            "grid_auto_flow": null,
            "grid_area": null,
            "grid_template_columns": null,
            "flex": null,
            "_model_name": "LayoutModel",
            "justify_items": null,
            "grid_row": null,
            "max_height": null,
            "align_content": null,
            "visibility": null,
            "align_self": null,
            "height": null,
            "min_height": null,
            "padding": null,
            "grid_auto_rows": null,
            "grid_gap": null,
            "max_width": null,
            "order": null,
            "_view_module_version": "1.2.0",
            "grid_template_areas": null,
            "object_position": null,
            "object_fit": null,
            "grid_auto_columns": null,
            "margin": null,
            "display": null,
            "left": null
          }
        },
        "3e11010f5bc24df6b424d3fca9336e81": {
          "model_module": "@jupyter-widgets/controls",
          "model_name": "HBoxModel",
          "model_module_version": "1.5.0",
          "state": {
            "_view_name": "HBoxView",
            "_dom_classes": [],
            "_model_name": "HBoxModel",
            "_view_module": "@jupyter-widgets/controls",
            "_model_module_version": "1.5.0",
            "_view_count": null,
            "_view_module_version": "1.5.0",
            "box_style": "",
            "layout": "IPY_MODEL_5ea965cd3db64914b681a90543fd8e1d",
            "_model_module": "@jupyter-widgets/controls",
            "children": [
              "IPY_MODEL_e4e4104796f74c8aa212b0b74cd986d2",
              "IPY_MODEL_d5ca5de9ea924687be8af9408ccfaef4",
              "IPY_MODEL_9589377a0e214cc285c114b15c0f9ca9"
            ]
          }
        },
        "5ea965cd3db64914b681a90543fd8e1d": {
          "model_module": "@jupyter-widgets/base",
          "model_name": "LayoutModel",
          "model_module_version": "1.2.0",
          "state": {
            "_view_name": "LayoutView",
            "grid_template_rows": null,
            "right": null,
            "justify_content": null,
            "_view_module": "@jupyter-widgets/base",
            "overflow": null,
            "_model_module_version": "1.2.0",
            "_view_count": null,
            "flex_flow": null,
            "width": null,
            "min_width": null,
            "border": null,
            "align_items": null,
            "bottom": null,
            "_model_module": "@jupyter-widgets/base",
            "top": null,
            "grid_column": null,
            "overflow_y": null,
            "overflow_x": null,
            "grid_auto_flow": null,
            "grid_area": null,
            "grid_template_columns": null,
            "flex": null,
            "_model_name": "LayoutModel",
            "justify_items": null,
            "grid_row": null,
            "max_height": null,
            "align_content": null,
            "visibility": null,
            "align_self": null,
            "height": null,
            "min_height": null,
            "padding": null,
            "grid_auto_rows": null,
            "grid_gap": null,
            "max_width": null,
            "order": null,
            "_view_module_version": "1.2.0",
            "grid_template_areas": null,
            "object_position": null,
            "object_fit": null,
            "grid_auto_columns": null,
            "margin": null,
            "display": null,
            "left": null
          }
        },
        "e4e4104796f74c8aa212b0b74cd986d2": {
          "model_module": "@jupyter-widgets/controls",
          "model_name": "HTMLModel",
          "model_module_version": "1.5.0",
          "state": {
            "_view_name": "HTMLView",
            "style": "IPY_MODEL_f8d29194bf0145af91ac9e1e1a0393d6",
            "_dom_classes": [],
            "description": "",
            "_model_name": "HTMLModel",
            "placeholder": "​",
            "_view_module": "@jupyter-widgets/controls",
            "_model_module_version": "1.5.0",
            "value": "Downloading: 100%",
            "_view_count": null,
            "_view_module_version": "1.5.0",
            "description_tooltip": null,
            "_model_module": "@jupyter-widgets/controls",
            "layout": "IPY_MODEL_723ecce807b1472582d433de14da4d55"
          }
        },
        "d5ca5de9ea924687be8af9408ccfaef4": {
          "model_module": "@jupyter-widgets/controls",
          "model_name": "FloatProgressModel",
          "model_module_version": "1.5.0",
          "state": {
            "_view_name": "ProgressView",
            "style": "IPY_MODEL_41a8ee4a2e714dae87de52c3fae9c6ad",
            "_dom_classes": [],
            "description": "",
            "_model_name": "FloatProgressModel",
            "bar_style": "success",
            "max": 513766,
            "_view_module": "@jupyter-widgets/controls",
            "_model_module_version": "1.5.0",
            "value": 513766,
            "_view_count": null,
            "_view_module_version": "1.5.0",
            "orientation": "horizontal",
            "min": 0,
            "description_tooltip": null,
            "_model_module": "@jupyter-widgets/controls",
            "layout": "IPY_MODEL_9485959cd4e940328a43320e972dcdf1"
          }
        },
        "9589377a0e214cc285c114b15c0f9ca9": {
          "model_module": "@jupyter-widgets/controls",
          "model_name": "HTMLModel",
          "model_module_version": "1.5.0",
          "state": {
            "_view_name": "HTMLView",
            "style": "IPY_MODEL_54f7d29367c449c1936f943c31c9c257",
            "_dom_classes": [],
            "description": "",
            "_model_name": "HTMLModel",
            "placeholder": "​",
            "_view_module": "@jupyter-widgets/controls",
            "_model_module_version": "1.5.0",
            "value": " 502k/502k [00:00&lt;00:00, 1.07MB/s]",
            "_view_count": null,
            "_view_module_version": "1.5.0",
            "description_tooltip": null,
            "_model_module": "@jupyter-widgets/controls",
            "layout": "IPY_MODEL_3c409bdc76e04157a42272219012a868"
          }
        },
        "f8d29194bf0145af91ac9e1e1a0393d6": {
          "model_module": "@jupyter-widgets/controls",
          "model_name": "DescriptionStyleModel",
          "model_module_version": "1.5.0",
          "state": {
            "_view_name": "StyleView",
            "_model_name": "DescriptionStyleModel",
            "description_width": "",
            "_view_module": "@jupyter-widgets/base",
            "_model_module_version": "1.5.0",
            "_view_count": null,
            "_view_module_version": "1.2.0",
            "_model_module": "@jupyter-widgets/controls"
          }
        },
        "723ecce807b1472582d433de14da4d55": {
          "model_module": "@jupyter-widgets/base",
          "model_name": "LayoutModel",
          "model_module_version": "1.2.0",
          "state": {
            "_view_name": "LayoutView",
            "grid_template_rows": null,
            "right": null,
            "justify_content": null,
            "_view_module": "@jupyter-widgets/base",
            "overflow": null,
            "_model_module_version": "1.2.0",
            "_view_count": null,
            "flex_flow": null,
            "width": null,
            "min_width": null,
            "border": null,
            "align_items": null,
            "bottom": null,
            "_model_module": "@jupyter-widgets/base",
            "top": null,
            "grid_column": null,
            "overflow_y": null,
            "overflow_x": null,
            "grid_auto_flow": null,
            "grid_area": null,
            "grid_template_columns": null,
            "flex": null,
            "_model_name": "LayoutModel",
            "justify_items": null,
            "grid_row": null,
            "max_height": null,
            "align_content": null,
            "visibility": null,
            "align_self": null,
            "height": null,
            "min_height": null,
            "padding": null,
            "grid_auto_rows": null,
            "grid_gap": null,
            "max_width": null,
            "order": null,
            "_view_module_version": "1.2.0",
            "grid_template_areas": null,
            "object_position": null,
            "object_fit": null,
            "grid_auto_columns": null,
            "margin": null,
            "display": null,
            "left": null
          }
        },
        "41a8ee4a2e714dae87de52c3fae9c6ad": {
          "model_module": "@jupyter-widgets/controls",
          "model_name": "ProgressStyleModel",
          "model_module_version": "1.5.0",
          "state": {
            "_view_name": "StyleView",
            "_model_name": "ProgressStyleModel",
            "description_width": "",
            "_view_module": "@jupyter-widgets/base",
            "_model_module_version": "1.5.0",
            "_view_count": null,
            "_view_module_version": "1.2.0",
            "bar_color": null,
            "_model_module": "@jupyter-widgets/controls"
          }
        },
        "9485959cd4e940328a43320e972dcdf1": {
          "model_module": "@jupyter-widgets/base",
          "model_name": "LayoutModel",
          "model_module_version": "1.2.0",
          "state": {
            "_view_name": "LayoutView",
            "grid_template_rows": null,
            "right": null,
            "justify_content": null,
            "_view_module": "@jupyter-widgets/base",
            "overflow": null,
            "_model_module_version": "1.2.0",
            "_view_count": null,
            "flex_flow": null,
            "width": null,
            "min_width": null,
            "border": null,
            "align_items": null,
            "bottom": null,
            "_model_module": "@jupyter-widgets/base",
            "top": null,
            "grid_column": null,
            "overflow_y": null,
            "overflow_x": null,
            "grid_auto_flow": null,
            "grid_area": null,
            "grid_template_columns": null,
            "flex": null,
            "_model_name": "LayoutModel",
            "justify_items": null,
            "grid_row": null,
            "max_height": null,
            "align_content": null,
            "visibility": null,
            "align_self": null,
            "height": null,
            "min_height": null,
            "padding": null,
            "grid_auto_rows": null,
            "grid_gap": null,
            "max_width": null,
            "order": null,
            "_view_module_version": "1.2.0",
            "grid_template_areas": null,
            "object_position": null,
            "object_fit": null,
            "grid_auto_columns": null,
            "margin": null,
            "display": null,
            "left": null
          }
        },
        "54f7d29367c449c1936f943c31c9c257": {
          "model_module": "@jupyter-widgets/controls",
          "model_name": "DescriptionStyleModel",
          "model_module_version": "1.5.0",
          "state": {
            "_view_name": "StyleView",
            "_model_name": "DescriptionStyleModel",
            "description_width": "",
            "_view_module": "@jupyter-widgets/base",
            "_model_module_version": "1.5.0",
            "_view_count": null,
            "_view_module_version": "1.2.0",
            "_model_module": "@jupyter-widgets/controls"
          }
        },
        "3c409bdc76e04157a42272219012a868": {
          "model_module": "@jupyter-widgets/base",
          "model_name": "LayoutModel",
          "model_module_version": "1.2.0",
          "state": {
            "_view_name": "LayoutView",
            "grid_template_rows": null,
            "right": null,
            "justify_content": null,
            "_view_module": "@jupyter-widgets/base",
            "overflow": null,
            "_model_module_version": "1.2.0",
            "_view_count": null,
            "flex_flow": null,
            "width": null,
            "min_width": null,
            "border": null,
            "align_items": null,
            "bottom": null,
            "_model_module": "@jupyter-widgets/base",
            "top": null,
            "grid_column": null,
            "overflow_y": null,
            "overflow_x": null,
            "grid_auto_flow": null,
            "grid_area": null,
            "grid_template_columns": null,
            "flex": null,
            "_model_name": "LayoutModel",
            "justify_items": null,
            "grid_row": null,
            "max_height": null,
            "align_content": null,
            "visibility": null,
            "align_self": null,
            "height": null,
            "min_height": null,
            "padding": null,
            "grid_auto_rows": null,
            "grid_gap": null,
            "max_width": null,
            "order": null,
            "_view_module_version": "1.2.0",
            "grid_template_areas": null,
            "object_position": null,
            "object_fit": null,
            "grid_auto_columns": null,
            "margin": null,
            "display": null,
            "left": null
          }
        },
        "528cf4447d0d46f6b8a4eaaa8688f0ba": {
          "model_module": "@jupyter-widgets/controls",
          "model_name": "HBoxModel",
          "model_module_version": "1.5.0",
          "state": {
            "_view_name": "HBoxView",
            "_dom_classes": [],
            "_model_name": "HBoxModel",
            "_view_module": "@jupyter-widgets/controls",
            "_model_module_version": "1.5.0",
            "_view_count": null,
            "_view_module_version": "1.5.0",
            "box_style": "",
            "layout": "IPY_MODEL_85fa2b709ea74165a01ce33871e1ad06",
            "_model_module": "@jupyter-widgets/controls",
            "children": [
              "IPY_MODEL_b116ea69dfdc4fdb8a11242f2aa8e0d9",
              "IPY_MODEL_19b7cba32b2b4cddba4e80f442385d01",
              "IPY_MODEL_93b354eb8fca4051a15aba04c3c16b9a"
            ]
          }
        },
        "85fa2b709ea74165a01ce33871e1ad06": {
          "model_module": "@jupyter-widgets/base",
          "model_name": "LayoutModel",
          "model_module_version": "1.2.0",
          "state": {
            "_view_name": "LayoutView",
            "grid_template_rows": null,
            "right": null,
            "justify_content": null,
            "_view_module": "@jupyter-widgets/base",
            "overflow": null,
            "_model_module_version": "1.2.0",
            "_view_count": null,
            "flex_flow": null,
            "width": null,
            "min_width": null,
            "border": null,
            "align_items": null,
            "bottom": null,
            "_model_module": "@jupyter-widgets/base",
            "top": null,
            "grid_column": null,
            "overflow_y": null,
            "overflow_x": null,
            "grid_auto_flow": null,
            "grid_area": null,
            "grid_template_columns": null,
            "flex": null,
            "_model_name": "LayoutModel",
            "justify_items": null,
            "grid_row": null,
            "max_height": null,
            "align_content": null,
            "visibility": null,
            "align_self": null,
            "height": null,
            "min_height": null,
            "padding": null,
            "grid_auto_rows": null,
            "grid_gap": null,
            "max_width": null,
            "order": null,
            "_view_module_version": "1.2.0",
            "grid_template_areas": null,
            "object_position": null,
            "object_fit": null,
            "grid_auto_columns": null,
            "margin": null,
            "display": null,
            "left": null
          }
        },
        "b116ea69dfdc4fdb8a11242f2aa8e0d9": {
          "model_module": "@jupyter-widgets/controls",
          "model_name": "HTMLModel",
          "model_module_version": "1.5.0",
          "state": {
            "_view_name": "HTMLView",
            "style": "IPY_MODEL_67b43a2ec2ba4603b9ffe20a05ee8edd",
            "_dom_classes": [],
            "description": "",
            "_model_name": "HTMLModel",
            "placeholder": "​",
            "_view_module": "@jupyter-widgets/controls",
            "_model_module_version": "1.5.0",
            "value": "Downloading: 100%",
            "_view_count": null,
            "_view_module_version": "1.5.0",
            "description_tooltip": null,
            "_model_module": "@jupyter-widgets/controls",
            "layout": "IPY_MODEL_48769a45d5644be2aa72a461b6c5f08b"
          }
        },
        "19b7cba32b2b4cddba4e80f442385d01": {
          "model_module": "@jupyter-widgets/controls",
          "model_name": "FloatProgressModel",
          "model_module_version": "1.5.0",
          "state": {
            "_view_name": "ProgressView",
            "style": "IPY_MODEL_1e02b6785d98430f84d77640927b41ce",
            "_dom_classes": [],
            "description": "",
            "_model_name": "FloatProgressModel",
            "bar_style": "success",
            "max": 1470259,
            "_view_module": "@jupyter-widgets/controls",
            "_model_module_version": "1.5.0",
            "value": 1470259,
            "_view_count": null,
            "_view_module_version": "1.5.0",
            "orientation": "horizontal",
            "min": 0,
            "description_tooltip": null,
            "_model_module": "@jupyter-widgets/controls",
            "layout": "IPY_MODEL_2894e27ebf874d8185beff8fb6fcd6b6"
          }
        },
        "93b354eb8fca4051a15aba04c3c16b9a": {
          "model_module": "@jupyter-widgets/controls",
          "model_name": "HTMLModel",
          "model_module_version": "1.5.0",
          "state": {
            "_view_name": "HTMLView",
            "style": "IPY_MODEL_8af6028004f6485d807e5038e22e5db8",
            "_dom_classes": [],
            "description": "",
            "_model_name": "HTMLModel",
            "placeholder": "​",
            "_view_module": "@jupyter-widgets/controls",
            "_model_module_version": "1.5.0",
            "value": " 1.40M/1.40M [00:00&lt;00:00, 1.46MB/s]",
            "_view_count": null,
            "_view_module_version": "1.5.0",
            "description_tooltip": null,
            "_model_module": "@jupyter-widgets/controls",
            "layout": "IPY_MODEL_42e1d11462794cb88ce54d0e8cfda63c"
          }
        },
        "67b43a2ec2ba4603b9ffe20a05ee8edd": {
          "model_module": "@jupyter-widgets/controls",
          "model_name": "DescriptionStyleModel",
          "model_module_version": "1.5.0",
          "state": {
            "_view_name": "StyleView",
            "_model_name": "DescriptionStyleModel",
            "description_width": "",
            "_view_module": "@jupyter-widgets/base",
            "_model_module_version": "1.5.0",
            "_view_count": null,
            "_view_module_version": "1.2.0",
            "_model_module": "@jupyter-widgets/controls"
          }
        },
        "48769a45d5644be2aa72a461b6c5f08b": {
          "model_module": "@jupyter-widgets/base",
          "model_name": "LayoutModel",
          "model_module_version": "1.2.0",
          "state": {
            "_view_name": "LayoutView",
            "grid_template_rows": null,
            "right": null,
            "justify_content": null,
            "_view_module": "@jupyter-widgets/base",
            "overflow": null,
            "_model_module_version": "1.2.0",
            "_view_count": null,
            "flex_flow": null,
            "width": null,
            "min_width": null,
            "border": null,
            "align_items": null,
            "bottom": null,
            "_model_module": "@jupyter-widgets/base",
            "top": null,
            "grid_column": null,
            "overflow_y": null,
            "overflow_x": null,
            "grid_auto_flow": null,
            "grid_area": null,
            "grid_template_columns": null,
            "flex": null,
            "_model_name": "LayoutModel",
            "justify_items": null,
            "grid_row": null,
            "max_height": null,
            "align_content": null,
            "visibility": null,
            "align_self": null,
            "height": null,
            "min_height": null,
            "padding": null,
            "grid_auto_rows": null,
            "grid_gap": null,
            "max_width": null,
            "order": null,
            "_view_module_version": "1.2.0",
            "grid_template_areas": null,
            "object_position": null,
            "object_fit": null,
            "grid_auto_columns": null,
            "margin": null,
            "display": null,
            "left": null
          }
        },
        "1e02b6785d98430f84d77640927b41ce": {
          "model_module": "@jupyter-widgets/controls",
          "model_name": "ProgressStyleModel",
          "model_module_version": "1.5.0",
          "state": {
            "_view_name": "StyleView",
            "_model_name": "ProgressStyleModel",
            "description_width": "",
            "_view_module": "@jupyter-widgets/base",
            "_model_module_version": "1.5.0",
            "_view_count": null,
            "_view_module_version": "1.2.0",
            "bar_color": null,
            "_model_module": "@jupyter-widgets/controls"
          }
        },
        "2894e27ebf874d8185beff8fb6fcd6b6": {
          "model_module": "@jupyter-widgets/base",
          "model_name": "LayoutModel",
          "model_module_version": "1.2.0",
          "state": {
            "_view_name": "LayoutView",
            "grid_template_rows": null,
            "right": null,
            "justify_content": null,
            "_view_module": "@jupyter-widgets/base",
            "overflow": null,
            "_model_module_version": "1.2.0",
            "_view_count": null,
            "flex_flow": null,
            "width": null,
            "min_width": null,
            "border": null,
            "align_items": null,
            "bottom": null,
            "_model_module": "@jupyter-widgets/base",
            "top": null,
            "grid_column": null,
            "overflow_y": null,
            "overflow_x": null,
            "grid_auto_flow": null,
            "grid_area": null,
            "grid_template_columns": null,
            "flex": null,
            "_model_name": "LayoutModel",
            "justify_items": null,
            "grid_row": null,
            "max_height": null,
            "align_content": null,
            "visibility": null,
            "align_self": null,
            "height": null,
            "min_height": null,
            "padding": null,
            "grid_auto_rows": null,
            "grid_gap": null,
            "max_width": null,
            "order": null,
            "_view_module_version": "1.2.0",
            "grid_template_areas": null,
            "object_position": null,
            "object_fit": null,
            "grid_auto_columns": null,
            "margin": null,
            "display": null,
            "left": null
          }
        },
        "8af6028004f6485d807e5038e22e5db8": {
          "model_module": "@jupyter-widgets/controls",
          "model_name": "DescriptionStyleModel",
          "model_module_version": "1.5.0",
          "state": {
            "_view_name": "StyleView",
            "_model_name": "DescriptionStyleModel",
            "description_width": "",
            "_view_module": "@jupyter-widgets/base",
            "_model_module_version": "1.5.0",
            "_view_count": null,
            "_view_module_version": "1.2.0",
            "_model_module": "@jupyter-widgets/controls"
          }
        },
        "42e1d11462794cb88ce54d0e8cfda63c": {
          "model_module": "@jupyter-widgets/base",
          "model_name": "LayoutModel",
          "model_module_version": "1.2.0",
          "state": {
            "_view_name": "LayoutView",
            "grid_template_rows": null,
            "right": null,
            "justify_content": null,
            "_view_module": "@jupyter-widgets/base",
            "overflow": null,
            "_model_module_version": "1.2.0",
            "_view_count": null,
            "flex_flow": null,
            "width": null,
            "min_width": null,
            "border": null,
            "align_items": null,
            "bottom": null,
            "_model_module": "@jupyter-widgets/base",
            "top": null,
            "grid_column": null,
            "overflow_y": null,
            "overflow_x": null,
            "grid_auto_flow": null,
            "grid_area": null,
            "grid_template_columns": null,
            "flex": null,
            "_model_name": "LayoutModel",
            "justify_items": null,
            "grid_row": null,
            "max_height": null,
            "align_content": null,
            "visibility": null,
            "align_self": null,
            "height": null,
            "min_height": null,
            "padding": null,
            "grid_auto_rows": null,
            "grid_gap": null,
            "max_width": null,
            "order": null,
            "_view_module_version": "1.2.0",
            "grid_template_areas": null,
            "object_position": null,
            "object_fit": null,
            "grid_auto_columns": null,
            "margin": null,
            "display": null,
            "left": null
          }
        },
        "5ec73c3446204db8956f8defad5991b5": {
          "model_module": "@jupyter-widgets/controls",
          "model_name": "HBoxModel",
          "model_module_version": "1.5.0",
          "state": {
            "_view_name": "HBoxView",
            "_dom_classes": [],
            "_model_name": "HBoxModel",
            "_view_module": "@jupyter-widgets/controls",
            "_model_module_version": "1.5.0",
            "_view_count": null,
            "_view_module_version": "1.5.0",
            "box_style": "",
            "layout": "IPY_MODEL_4ebece4e87874e14b87c034eb09910ba",
            "_model_module": "@jupyter-widgets/controls",
            "children": [
              "IPY_MODEL_c0d18d792afb4e74bb59afcf715e5cd7",
              "IPY_MODEL_bf80d23a81a146f89140da7b7c4147f1",
              "IPY_MODEL_67dcc7ff53a546baa135d192e8b2bcad"
            ]
          }
        },
        "4ebece4e87874e14b87c034eb09910ba": {
          "model_module": "@jupyter-widgets/base",
          "model_name": "LayoutModel",
          "model_module_version": "1.2.0",
          "state": {
            "_view_name": "LayoutView",
            "grid_template_rows": null,
            "right": null,
            "justify_content": null,
            "_view_module": "@jupyter-widgets/base",
            "overflow": null,
            "_model_module_version": "1.2.0",
            "_view_count": null,
            "flex_flow": null,
            "width": null,
            "min_width": null,
            "border": null,
            "align_items": null,
            "bottom": null,
            "_model_module": "@jupyter-widgets/base",
            "top": null,
            "grid_column": null,
            "overflow_y": null,
            "overflow_x": null,
            "grid_auto_flow": null,
            "grid_area": null,
            "grid_template_columns": null,
            "flex": null,
            "_model_name": "LayoutModel",
            "justify_items": null,
            "grid_row": null,
            "max_height": null,
            "align_content": null,
            "visibility": null,
            "align_self": null,
            "height": null,
            "min_height": null,
            "padding": null,
            "grid_auto_rows": null,
            "grid_gap": null,
            "max_width": null,
            "order": null,
            "_view_module_version": "1.2.0",
            "grid_template_areas": null,
            "object_position": null,
            "object_fit": null,
            "grid_auto_columns": null,
            "margin": null,
            "display": null,
            "left": null
          }
        },
        "c0d18d792afb4e74bb59afcf715e5cd7": {
          "model_module": "@jupyter-widgets/controls",
          "model_name": "HTMLModel",
          "model_module_version": "1.5.0",
          "state": {
            "_view_name": "HTMLView",
            "style": "IPY_MODEL_d3661515f9ee4a24ae69fa453b8fa5b1",
            "_dom_classes": [],
            "description": "",
            "_model_name": "HTMLModel",
            "placeholder": "​",
            "_view_module": "@jupyter-widgets/controls",
            "_model_module_version": "1.5.0",
            "value": "Downloading: 100%",
            "_view_count": null,
            "_view_module_version": "1.5.0",
            "description_tooltip": null,
            "_model_module": "@jupyter-widgets/controls",
            "layout": "IPY_MODEL_c5c8ac03b16c4833bf6f67083aa3de83"
          }
        },
        "bf80d23a81a146f89140da7b7c4147f1": {
          "model_module": "@jupyter-widgets/controls",
          "model_name": "FloatProgressModel",
          "model_module_version": "1.5.0",
          "state": {
            "_view_name": "ProgressView",
            "style": "IPY_MODEL_b050369328c6416eb4fcbaef88164bd9",
            "_dom_classes": [],
            "description": "",
            "_model_name": "FloatProgressModel",
            "bar_style": "success",
            "max": 239,
            "_view_module": "@jupyter-widgets/controls",
            "_model_module_version": "1.5.0",
            "value": 239,
            "_view_count": null,
            "_view_module_version": "1.5.0",
            "orientation": "horizontal",
            "min": 0,
            "description_tooltip": null,
            "_model_module": "@jupyter-widgets/controls",
            "layout": "IPY_MODEL_330c5eb1750448c59abc71fa42339b0b"
          }
        },
        "67dcc7ff53a546baa135d192e8b2bcad": {
          "model_module": "@jupyter-widgets/controls",
          "model_name": "HTMLModel",
          "model_module_version": "1.5.0",
          "state": {
            "_view_name": "HTMLView",
            "style": "IPY_MODEL_6d5b2b649c93407993c09a2f5e618f3a",
            "_dom_classes": [],
            "description": "",
            "_model_name": "HTMLModel",
            "placeholder": "​",
            "_view_module": "@jupyter-widgets/controls",
            "_model_module_version": "1.5.0",
            "value": " 239/239 [00:00&lt;00:00, 4.52kB/s]",
            "_view_count": null,
            "_view_module_version": "1.5.0",
            "description_tooltip": null,
            "_model_module": "@jupyter-widgets/controls",
            "layout": "IPY_MODEL_16b3cfd5b14043e3be83027d708bc242"
          }
        },
        "d3661515f9ee4a24ae69fa453b8fa5b1": {
          "model_module": "@jupyter-widgets/controls",
          "model_name": "DescriptionStyleModel",
          "model_module_version": "1.5.0",
          "state": {
            "_view_name": "StyleView",
            "_model_name": "DescriptionStyleModel",
            "description_width": "",
            "_view_module": "@jupyter-widgets/base",
            "_model_module_version": "1.5.0",
            "_view_count": null,
            "_view_module_version": "1.2.0",
            "_model_module": "@jupyter-widgets/controls"
          }
        },
        "c5c8ac03b16c4833bf6f67083aa3de83": {
          "model_module": "@jupyter-widgets/base",
          "model_name": "LayoutModel",
          "model_module_version": "1.2.0",
          "state": {
            "_view_name": "LayoutView",
            "grid_template_rows": null,
            "right": null,
            "justify_content": null,
            "_view_module": "@jupyter-widgets/base",
            "overflow": null,
            "_model_module_version": "1.2.0",
            "_view_count": null,
            "flex_flow": null,
            "width": null,
            "min_width": null,
            "border": null,
            "align_items": null,
            "bottom": null,
            "_model_module": "@jupyter-widgets/base",
            "top": null,
            "grid_column": null,
            "overflow_y": null,
            "overflow_x": null,
            "grid_auto_flow": null,
            "grid_area": null,
            "grid_template_columns": null,
            "flex": null,
            "_model_name": "LayoutModel",
            "justify_items": null,
            "grid_row": null,
            "max_height": null,
            "align_content": null,
            "visibility": null,
            "align_self": null,
            "height": null,
            "min_height": null,
            "padding": null,
            "grid_auto_rows": null,
            "grid_gap": null,
            "max_width": null,
            "order": null,
            "_view_module_version": "1.2.0",
            "grid_template_areas": null,
            "object_position": null,
            "object_fit": null,
            "grid_auto_columns": null,
            "margin": null,
            "display": null,
            "left": null
          }
        },
        "b050369328c6416eb4fcbaef88164bd9": {
          "model_module": "@jupyter-widgets/controls",
          "model_name": "ProgressStyleModel",
          "model_module_version": "1.5.0",
          "state": {
            "_view_name": "StyleView",
            "_model_name": "ProgressStyleModel",
            "description_width": "",
            "_view_module": "@jupyter-widgets/base",
            "_model_module_version": "1.5.0",
            "_view_count": null,
            "_view_module_version": "1.2.0",
            "bar_color": null,
            "_model_module": "@jupyter-widgets/controls"
          }
        },
        "330c5eb1750448c59abc71fa42339b0b": {
          "model_module": "@jupyter-widgets/base",
          "model_name": "LayoutModel",
          "model_module_version": "1.2.0",
          "state": {
            "_view_name": "LayoutView",
            "grid_template_rows": null,
            "right": null,
            "justify_content": null,
            "_view_module": "@jupyter-widgets/base",
            "overflow": null,
            "_model_module_version": "1.2.0",
            "_view_count": null,
            "flex_flow": null,
            "width": null,
            "min_width": null,
            "border": null,
            "align_items": null,
            "bottom": null,
            "_model_module": "@jupyter-widgets/base",
            "top": null,
            "grid_column": null,
            "overflow_y": null,
            "overflow_x": null,
            "grid_auto_flow": null,
            "grid_area": null,
            "grid_template_columns": null,
            "flex": null,
            "_model_name": "LayoutModel",
            "justify_items": null,
            "grid_row": null,
            "max_height": null,
            "align_content": null,
            "visibility": null,
            "align_self": null,
            "height": null,
            "min_height": null,
            "padding": null,
            "grid_auto_rows": null,
            "grid_gap": null,
            "max_width": null,
            "order": null,
            "_view_module_version": "1.2.0",
            "grid_template_areas": null,
            "object_position": null,
            "object_fit": null,
            "grid_auto_columns": null,
            "margin": null,
            "display": null,
            "left": null
          }
        },
        "6d5b2b649c93407993c09a2f5e618f3a": {
          "model_module": "@jupyter-widgets/controls",
          "model_name": "DescriptionStyleModel",
          "model_module_version": "1.5.0",
          "state": {
            "_view_name": "StyleView",
            "_model_name": "DescriptionStyleModel",
            "description_width": "",
            "_view_module": "@jupyter-widgets/base",
            "_model_module_version": "1.5.0",
            "_view_count": null,
            "_view_module_version": "1.2.0",
            "_model_module": "@jupyter-widgets/controls"
          }
        },
        "16b3cfd5b14043e3be83027d708bc242": {
          "model_module": "@jupyter-widgets/base",
          "model_name": "LayoutModel",
          "model_module_version": "1.2.0",
          "state": {
            "_view_name": "LayoutView",
            "grid_template_rows": null,
            "right": null,
            "justify_content": null,
            "_view_module": "@jupyter-widgets/base",
            "overflow": null,
            "_model_module_version": "1.2.0",
            "_view_count": null,
            "flex_flow": null,
            "width": null,
            "min_width": null,
            "border": null,
            "align_items": null,
            "bottom": null,
            "_model_module": "@jupyter-widgets/base",
            "top": null,
            "grid_column": null,
            "overflow_y": null,
            "overflow_x": null,
            "grid_auto_flow": null,
            "grid_area": null,
            "grid_template_columns": null,
            "flex": null,
            "_model_name": "LayoutModel",
            "justify_items": null,
            "grid_row": null,
            "max_height": null,
            "align_content": null,
            "visibility": null,
            "align_self": null,
            "height": null,
            "min_height": null,
            "padding": null,
            "grid_auto_rows": null,
            "grid_gap": null,
            "max_width": null,
            "order": null,
            "_view_module_version": "1.2.0",
            "grid_template_areas": null,
            "object_position": null,
            "object_fit": null,
            "grid_auto_columns": null,
            "margin": null,
            "display": null,
            "left": null
          }
        },
        "a7a267b0c7994bf69506faf2286b4be1": {
          "model_module": "@jupyter-widgets/controls",
          "model_name": "HBoxModel",
          "model_module_version": "1.5.0",
          "state": {
            "_view_name": "HBoxView",
            "_dom_classes": [],
            "_model_name": "HBoxModel",
            "_view_module": "@jupyter-widgets/controls",
            "_model_module_version": "1.5.0",
            "_view_count": null,
            "_view_module_version": "1.5.0",
            "box_style": "",
            "layout": "IPY_MODEL_fb34f1499ec24922a5514fcc8ce48c07",
            "_model_module": "@jupyter-widgets/controls",
            "children": [
              "IPY_MODEL_a77e5cf994f84bf0a1e6e95d2473c029",
              "IPY_MODEL_fb1b05834fe644c3a4d99fbfd3f9f1ca",
              "IPY_MODEL_cc5b7e8abfeb4f619bf5c06f223457c9"
            ]
          }
        },
        "fb34f1499ec24922a5514fcc8ce48c07": {
          "model_module": "@jupyter-widgets/base",
          "model_name": "LayoutModel",
          "model_module_version": "1.2.0",
          "state": {
            "_view_name": "LayoutView",
            "grid_template_rows": null,
            "right": null,
            "justify_content": null,
            "_view_module": "@jupyter-widgets/base",
            "overflow": null,
            "_model_module_version": "1.2.0",
            "_view_count": null,
            "flex_flow": null,
            "width": null,
            "min_width": null,
            "border": null,
            "align_items": null,
            "bottom": null,
            "_model_module": "@jupyter-widgets/base",
            "top": null,
            "grid_column": null,
            "overflow_y": null,
            "overflow_x": null,
            "grid_auto_flow": null,
            "grid_area": null,
            "grid_template_columns": null,
            "flex": null,
            "_model_name": "LayoutModel",
            "justify_items": null,
            "grid_row": null,
            "max_height": null,
            "align_content": null,
            "visibility": null,
            "align_self": null,
            "height": null,
            "min_height": null,
            "padding": null,
            "grid_auto_rows": null,
            "grid_gap": null,
            "max_width": null,
            "order": null,
            "_view_module_version": "1.2.0",
            "grid_template_areas": null,
            "object_position": null,
            "object_fit": null,
            "grid_auto_columns": null,
            "margin": null,
            "display": null,
            "left": null
          }
        },
        "a77e5cf994f84bf0a1e6e95d2473c029": {
          "model_module": "@jupyter-widgets/controls",
          "model_name": "HTMLModel",
          "model_module_version": "1.5.0",
          "state": {
            "_view_name": "HTMLView",
            "style": "IPY_MODEL_4f504971ba4d438c802a620a98570f40",
            "_dom_classes": [],
            "description": "",
            "_model_name": "HTMLModel",
            "placeholder": "​",
            "_view_module": "@jupyter-widgets/controls",
            "_model_module_version": "1.5.0",
            "value": "Downloading: 100%",
            "_view_count": null,
            "_view_module_version": "1.5.0",
            "description_tooltip": null,
            "_model_module": "@jupyter-widgets/controls",
            "layout": "IPY_MODEL_27eebebb1e0e4a9f99fc2132c10a381c"
          }
        },
        "fb1b05834fe644c3a4d99fbfd3f9f1ca": {
          "model_module": "@jupyter-widgets/controls",
          "model_name": "FloatProgressModel",
          "model_module_version": "1.5.0",
          "state": {
            "_view_name": "ProgressView",
            "style": "IPY_MODEL_bbd9b519c0b14a33bc95956ef133ca9f",
            "_dom_classes": [],
            "description": "",
            "_model_name": "FloatProgressModel",
            "bar_style": "success",
            "max": 292,
            "_view_module": "@jupyter-widgets/controls",
            "_model_module_version": "1.5.0",
            "value": 292,
            "_view_count": null,
            "_view_module_version": "1.5.0",
            "orientation": "horizontal",
            "min": 0,
            "description_tooltip": null,
            "_model_module": "@jupyter-widgets/controls",
            "layout": "IPY_MODEL_80e256fd96734333a555c0a3ee50f570"
          }
        },
        "cc5b7e8abfeb4f619bf5c06f223457c9": {
          "model_module": "@jupyter-widgets/controls",
          "model_name": "HTMLModel",
          "model_module_version": "1.5.0",
          "state": {
            "_view_name": "HTMLView",
            "style": "IPY_MODEL_647241abb492418d95bd137d5b04664d",
            "_dom_classes": [],
            "description": "",
            "_model_name": "HTMLModel",
            "placeholder": "​",
            "_view_module": "@jupyter-widgets/controls",
            "_model_module_version": "1.5.0",
            "value": " 292/292 [00:00&lt;00:00, 7.75kB/s]",
            "_view_count": null,
            "_view_module_version": "1.5.0",
            "description_tooltip": null,
            "_model_module": "@jupyter-widgets/controls",
            "layout": "IPY_MODEL_f18e7744e0af48ce8f9a20998f0ea248"
          }
        },
        "4f504971ba4d438c802a620a98570f40": {
          "model_module": "@jupyter-widgets/controls",
          "model_name": "DescriptionStyleModel",
          "model_module_version": "1.5.0",
          "state": {
            "_view_name": "StyleView",
            "_model_name": "DescriptionStyleModel",
            "description_width": "",
            "_view_module": "@jupyter-widgets/base",
            "_model_module_version": "1.5.0",
            "_view_count": null,
            "_view_module_version": "1.2.0",
            "_model_module": "@jupyter-widgets/controls"
          }
        },
        "27eebebb1e0e4a9f99fc2132c10a381c": {
          "model_module": "@jupyter-widgets/base",
          "model_name": "LayoutModel",
          "model_module_version": "1.2.0",
          "state": {
            "_view_name": "LayoutView",
            "grid_template_rows": null,
            "right": null,
            "justify_content": null,
            "_view_module": "@jupyter-widgets/base",
            "overflow": null,
            "_model_module_version": "1.2.0",
            "_view_count": null,
            "flex_flow": null,
            "width": null,
            "min_width": null,
            "border": null,
            "align_items": null,
            "bottom": null,
            "_model_module": "@jupyter-widgets/base",
            "top": null,
            "grid_column": null,
            "overflow_y": null,
            "overflow_x": null,
            "grid_auto_flow": null,
            "grid_area": null,
            "grid_template_columns": null,
            "flex": null,
            "_model_name": "LayoutModel",
            "justify_items": null,
            "grid_row": null,
            "max_height": null,
            "align_content": null,
            "visibility": null,
            "align_self": null,
            "height": null,
            "min_height": null,
            "padding": null,
            "grid_auto_rows": null,
            "grid_gap": null,
            "max_width": null,
            "order": null,
            "_view_module_version": "1.2.0",
            "grid_template_areas": null,
            "object_position": null,
            "object_fit": null,
            "grid_auto_columns": null,
            "margin": null,
            "display": null,
            "left": null
          }
        },
        "bbd9b519c0b14a33bc95956ef133ca9f": {
          "model_module": "@jupyter-widgets/controls",
          "model_name": "ProgressStyleModel",
          "model_module_version": "1.5.0",
          "state": {
            "_view_name": "StyleView",
            "_model_name": "ProgressStyleModel",
            "description_width": "",
            "_view_module": "@jupyter-widgets/base",
            "_model_module_version": "1.5.0",
            "_view_count": null,
            "_view_module_version": "1.2.0",
            "bar_color": null,
            "_model_module": "@jupyter-widgets/controls"
          }
        },
        "80e256fd96734333a555c0a3ee50f570": {
          "model_module": "@jupyter-widgets/base",
          "model_name": "LayoutModel",
          "model_module_version": "1.2.0",
          "state": {
            "_view_name": "LayoutView",
            "grid_template_rows": null,
            "right": null,
            "justify_content": null,
            "_view_module": "@jupyter-widgets/base",
            "overflow": null,
            "_model_module_version": "1.2.0",
            "_view_count": null,
            "flex_flow": null,
            "width": null,
            "min_width": null,
            "border": null,
            "align_items": null,
            "bottom": null,
            "_model_module": "@jupyter-widgets/base",
            "top": null,
            "grid_column": null,
            "overflow_y": null,
            "overflow_x": null,
            "grid_auto_flow": null,
            "grid_area": null,
            "grid_template_columns": null,
            "flex": null,
            "_model_name": "LayoutModel",
            "justify_items": null,
            "grid_row": null,
            "max_height": null,
            "align_content": null,
            "visibility": null,
            "align_self": null,
            "height": null,
            "min_height": null,
            "padding": null,
            "grid_auto_rows": null,
            "grid_gap": null,
            "max_width": null,
            "order": null,
            "_view_module_version": "1.2.0",
            "grid_template_areas": null,
            "object_position": null,
            "object_fit": null,
            "grid_auto_columns": null,
            "margin": null,
            "display": null,
            "left": null
          }
        },
        "647241abb492418d95bd137d5b04664d": {
          "model_module": "@jupyter-widgets/controls",
          "model_name": "DescriptionStyleModel",
          "model_module_version": "1.5.0",
          "state": {
            "_view_name": "StyleView",
            "_model_name": "DescriptionStyleModel",
            "description_width": "",
            "_view_module": "@jupyter-widgets/base",
            "_model_module_version": "1.5.0",
            "_view_count": null,
            "_view_module_version": "1.2.0",
            "_model_module": "@jupyter-widgets/controls"
          }
        },
        "f18e7744e0af48ce8f9a20998f0ea248": {
          "model_module": "@jupyter-widgets/base",
          "model_name": "LayoutModel",
          "model_module_version": "1.2.0",
          "state": {
            "_view_name": "LayoutView",
            "grid_template_rows": null,
            "right": null,
            "justify_content": null,
            "_view_module": "@jupyter-widgets/base",
            "overflow": null,
            "_model_module_version": "1.2.0",
            "_view_count": null,
            "flex_flow": null,
            "width": null,
            "min_width": null,
            "border": null,
            "align_items": null,
            "bottom": null,
            "_model_module": "@jupyter-widgets/base",
            "top": null,
            "grid_column": null,
            "overflow_y": null,
            "overflow_x": null,
            "grid_auto_flow": null,
            "grid_area": null,
            "grid_template_columns": null,
            "flex": null,
            "_model_name": "LayoutModel",
            "justify_items": null,
            "grid_row": null,
            "max_height": null,
            "align_content": null,
            "visibility": null,
            "align_self": null,
            "height": null,
            "min_height": null,
            "padding": null,
            "grid_auto_rows": null,
            "grid_gap": null,
            "max_width": null,
            "order": null,
            "_view_module_version": "1.2.0",
            "grid_template_areas": null,
            "object_position": null,
            "object_fit": null,
            "grid_auto_columns": null,
            "margin": null,
            "display": null,
            "left": null
          }
        }
      }
    }
  },
  "cells": [
    {
      "cell_type": "markdown",
      "metadata": {
        "id": "S4sXVEbEyERS"
      },
      "source": [
        "# Intro\n",
        "\n",
        "We have a binary classification problem, given a fact we must acknowledge wether it is verifiable or not.\n",
        "\n",
        "First, we will setup the environment, install the necessary dependencies, download the dataset and explore it to get a grasp of its nuances. Then we will prepare the dataset for training, creating the necessary splits to train a BERT based model and, at the end, we will evaluate it and perform a small error analysis.\n",
        "\n",
        "This notebook calls the necessary steps and explains the results obtained. The full source code and instructions to perform the process locally or on your own Colab can be found in the following github repository: https://github.com/geblanco/newtral_technical_test\n",
        "\n",
        "## Choosing the model\n",
        "\n",
        "This is a crucial step on every process involving machine learning, briefly, after a first researching step (not reported here) we will employ a RoBERTa-based model pre-trained in spanish from the ground up (found [here](https://huggingface.co/bertin-project/bertin-roberta-base-spanish)). Albeit being very novel, this model achieves very good results in spanish and is, to the best of our knowledge, the first realistic attempt to create a pre-trained model in spanish."
      ]
    },
    {
      "cell_type": "code",
      "metadata": {
        "id": "745-TmZAIZw2"
      },
      "source": [
        "# base modules\n",
        "import os\n",
        "import sys\n",
        "import pandas as pd\n",
        "from pathlib import Path"
      ],
      "execution_count": 1,
      "outputs": []
    },
    {
      "cell_type": "code",
      "metadata": {
        "id": "iG2F0h50IEKO"
      },
      "source": [
        "# constants\n",
        "base_dir = Path(\"/content/newtral_technical_test/\")\n",
        "data_url = \"https://ml-coding-test.s3.eu-west-1.amazonaws.com/ml_test_data.csv\"\n",
        "data_dir = base_dir.joinpath(\"data\")\n",
        "data_file = data_dir.joinpath(\"ml_test_data.csv\")\n",
        "models_dir = Path(\"/content/drive/My Drive/Colab Notebooks/models\")\n",
        "model_name = \"bertin-project/bertin-roberta-base-spanish\""
      ],
      "execution_count": 2,
      "outputs": []
    },
    {
      "cell_type": "code",
      "metadata": {
        "colab": {
          "base_uri": "https://localhost:8080/"
        },
        "id": "6GtCYZ-t6htw",
        "outputId": "83a6dc72-bf6b-4ec7-94d7-1a7dbbd965fe"
      },
      "source": [
        "# setup storage\n",
        "from google.colab import drive\n",
        "drive.mount(\"/content/drive\")"
      ],
      "execution_count": 3,
      "outputs": [
        {
          "output_type": "stream",
          "name": "stdout",
          "text": [
            "Mounted at /content/drive\n"
          ]
        }
      ]
    },
    {
      "cell_type": "code",
      "metadata": {
        "colab": {
          "base_uri": "https://localhost:8080/"
        },
        "id": "iIetQ4cgG2gj",
        "outputId": "0c978c24-bb44-4678-b3df-e732d3dba92e"
      },
      "source": [
        "# get code\n",
        "![[ ! -d \"newtral_technical_test\" ]] && git clone https://github.com/geblanco/newtral_technical_test"
      ],
      "execution_count": 4,
      "outputs": [
        {
          "output_type": "stream",
          "name": "stdout",
          "text": [
            "Cloning into 'newtral_technical_test'...\n",
            "remote: Enumerating objects: 38, done.\u001b[K\n",
            "remote: Counting objects: 100% (38/38), done.\u001b[K\n",
            "remote: Compressing objects: 100% (28/28), done.\u001b[K\n",
            "remote: Total 38 (delta 14), reused 32 (delta 10), pack-reused 0\u001b[K\n",
            "Unpacking objects: 100% (38/38), done.\n"
          ]
        }
      ]
    },
    {
      "cell_type": "code",
      "metadata": {
        "colab": {
          "base_uri": "https://localhost:8080/"
        },
        "id": "sY0-9fw3HOa_",
        "outputId": "6dee3560-6d6f-47fe-89ea-34ba5fa3ebf8"
      },
      "source": [
        "os.chdir(\"newtral_technical_test\")\n",
        "!pwd\n",
        "sys.path.append(\"./src\")"
      ],
      "execution_count": 5,
      "outputs": [
        {
          "output_type": "stream",
          "name": "stdout",
          "text": [
            "/content/newtral_technical_test\n"
          ]
        }
      ]
    },
    {
      "cell_type": "code",
      "metadata": {
        "colab": {
          "base_uri": "https://localhost:8080/"
        },
        "id": "_2ZJ4KQOHhRn",
        "outputId": "a4e68614-5e67-4f14-a29b-a0007e4a855b"
      },
      "source": [
        "!pip install -q -r requirements.txt"
      ],
      "execution_count": 6,
      "outputs": [
        {
          "output_type": "stream",
          "name": "stdout",
          "text": [
            "\u001b[?25l\r\u001b[K     |████▍                           | 10 kB 24.7 MB/s eta 0:00:01\r\u001b[K     |████████▊                       | 20 kB 27.7 MB/s eta 0:00:01\r\u001b[K     |█████████████▏                  | 30 kB 12.1 MB/s eta 0:00:01\r\u001b[K     |█████████████████▌              | 40 kB 9.5 MB/s eta 0:00:01\r\u001b[K     |██████████████████████          | 51 kB 5.4 MB/s eta 0:00:01\r\u001b[K     |██████████████████████████▎     | 61 kB 6.0 MB/s eta 0:00:01\r\u001b[K     |██████████████████████████████▊ | 71 kB 5.9 MB/s eta 0:00:01\r\u001b[K     |████████████████████████████████| 74 kB 2.2 MB/s \n",
            "\u001b[K     |████████████████████████████████| 302 kB 11.0 MB/s \n",
            "\u001b[K     |████████████████████████████████| 2.9 MB 36.1 MB/s \n",
            "\u001b[K     |████████████████████████████████| 112 kB 13.4 MB/s \n",
            "\u001b[K     |████████████████████████████████| 636 kB 51.0 MB/s \n",
            "\u001b[K     |████████████████████████████████| 208 kB 54.7 MB/s \n",
            "\u001b[K     |████████████████████████████████| 80 kB 9.2 MB/s \n",
            "\u001b[K     |████████████████████████████████| 3.3 MB 8.8 MB/s \n",
            "\u001b[K     |████████████████████████████████| 895 kB 31.4 MB/s \n",
            "\u001b[K     |████████████████████████████████| 52 kB 1.4 MB/s \n",
            "\u001b[K     |████████████████████████████████| 75 kB 4.2 MB/s \n",
            "\u001b[K     |████████████████████████████████| 111 kB 54.2 MB/s \n",
            "\u001b[K     |████████████████████████████████| 49 kB 5.8 MB/s \n",
            "\u001b[K     |████████████████████████████████| 144 kB 50.0 MB/s \n",
            "\u001b[?25h  Building wheel for antlr4-python3-runtime (setup.py) ... \u001b[?25l\u001b[?25hdone\n",
            "  Building wheel for pyperclip (setup.py) ... \u001b[?25l\u001b[?25hdone\n"
          ]
        }
      ]
    },
    {
      "cell_type": "code",
      "metadata": {
        "colab": {
          "base_uri": "https://localhost:8080/"
        },
        "id": "oEKaPWWGH8ln",
        "outputId": "5c5c40a9-a134-419a-ec73-165b746337c6"
      },
      "source": [
        "# download data\n",
        "from dl_data import maybe_download\n",
        "maybe_download(data_url, data_dir, overwrite=True)"
      ],
      "execution_count": 9,
      "outputs": [
        {
          "output_type": "stream",
          "name": "stdout",
          "text": [
            "Downloading https://ml-coding-test.s3.eu-west-1.amazonaws.com/ml_test_data.csv\n",
            "Writing /content/newtral_technical_test/data/ml_test_data.csv\n"
          ]
        }
      ]
    },
    {
      "cell_type": "markdown",
      "metadata": {
        "id": "hFwr6ZQBJzuq"
      },
      "source": [
        "# Data exploration\n",
        "\n",
        "We are given a dataset entailing facts and a flag indicating whether the fact is verifiable or not (classes 1/0 respectively).\n",
        "\n",
        "To get familiarized with the data we will explore:\n",
        "- number of examples\n",
        "- repeated examples\n",
        "- class representation\n",
        "\n",
        "To do so, we will use `pandas`, it provides many easy to use data manipulation tools."
      ]
    },
    {
      "cell_type": "code",
      "metadata": {
        "colab": {
          "base_uri": "https://localhost:8080/"
        },
        "id": "aXbFjUeeI6Iu",
        "outputId": "b56f4013-4d7c-485d-de86-41e13b5c37a5"
      },
      "source": [
        "# load data\n",
        "data = pd.read_csv(data_file)\n",
        "print(f\"Number of examples: {len(data)}\")\n",
        "print(f\"Number of invalid examples: {data['text'].isnull().sum()}\")\n",
        "print(\"First samples:\")\n",
        "print(f\"{data.head()}\\n\")\n",
        "print(\"Some stats:\")\n",
        "print(f\"{data.describe()}\\n\")\n",
        "# remove duplicates: compare lowercased sentences\n",
        "lower = data.copy()\n",
        "lower[\"text\"] = lower[\"text\"].apply(lambda x: x.lower())\n",
        "dups = lower.duplicated()\n",
        "print(f\"Number of duplicates {len(dups[dups == True])}\")\n",
        "data.drop(dups[dups == True].index, inplace=True)\n",
        "data.to_csv(data_file)"
      ],
      "execution_count": 10,
      "outputs": [
        {
          "output_type": "stream",
          "name": "stdout",
          "text": [
            "Number of examples: 15000\n",
            "Number of invalid examples: 0\n",
            "First samples:\n",
            "                                                text  claim\n",
            "0          Le hace la primera pregunta Lucía Méndez?      0\n",
            "1  También debo decir que nunca, nunca se se habl...      0\n",
            "2  Y ahora lo que estamos viendo efectivamente es...      0\n",
            "3  Por ejemplo el secretario de Defensa norteamer...      0\n",
            "4  Y en Radio y Televisión Española afortunadamen...      0\n",
            "\n",
            "Some stats:\n",
            "              claim\n",
            "count  15000.000000\n",
            "mean       0.072067\n",
            "std        0.258607\n",
            "min        0.000000\n",
            "25%        0.000000\n",
            "50%        0.000000\n",
            "75%        0.000000\n",
            "max        1.000000\n",
            "\n",
            "Number of duplicates 5\n"
          ]
        }
      ]
    },
    {
      "cell_type": "markdown",
      "metadata": {
        "id": "nzHFKTPUMORz"
      },
      "source": [
        "# First conclusions on the data\n",
        "\n",
        "From the previous exploration we see that there are no invalid examples and that sentences look already clean, so there is no need to clean it further. Additionally, there is a reasonable number of examples to train a Deep Learning model (though more examples could be better), and only a few examples are repeated.\n",
        "\n",
        "Finally, from the stats we see that there are around 7.2% of verifiable examples (mean == 0.072067), and around 92.8% of unverifiable examples present in the dataset. This is worrying as a it will make generalization more difficult, is easy to learn to always respond that the example is unverifiable and still get around 92% of accuracy.\n",
        "\n",
        "A clear conclusion is that `accuracy` metric won't be representative to evaluate the model and that is crucial to ensure class proportions are preserved in the splits we create out of the original dataset.\n"
      ]
    },
    {
      "cell_type": "markdown",
      "metadata": {
        "id": "aQ-B3ehMzJJR"
      },
      "source": [
        "# Data preparation\n",
        "\n",
        "In this section we will divide the dataset into splits for training and evaluating the model and get numeric-based features out of each sentence (embed each sentence) so that the model can ingest it.\n",
        "\n",
        "We will create three splits: train/dev/test with the following proportions: 70% train, 10% validation and 20% test split. To do so and still keep the original class proportions we can use the `StratifiedShuffleSplit` function from `sklearn`. The full source code can be found [here](https://github.com/geblanco/newtral_technical_test/blob/master/src/prepare_data.py#L82)\n",
        "\n",
        "Creating the features is just a matter of passing each sentence through the embedding model, in this case a RoBERTa-based spanish one.\n",
        "\n",
        "After the whole process we will end up wit the following tree structure:\n",
        "```sh\n",
        "data\n",
        "├── cached_dev.csv_RobertaTokenizerFast\n",
        "├── cached_test.csv_RobertaTokenizerFast\n",
        "├── cached_train.csv_RobertaTokenizerFast\n",
        "├── dev.csv\n",
        "├── ml_test_data.csv\n",
        "├── test.csv\n",
        "└── train.csv\n",
        "```"
      ]
    },
    {
      "cell_type": "code",
      "metadata": {
        "colab": {
          "base_uri": "https://localhost:8080/",
          "height": 368,
          "referenced_widgets": [
            "65cb1e78a41f41d39d234b7a103ba8a5",
            "18c0bfaa51f04b8fbbb672d013631462",
            "7f77e089990a45f3a4d6e9a9a6418591",
            "35dcf06dffb747558bc65fed0483a712",
            "b461e5d742e745e787c4cb8224bc9ec3",
            "0c7a40898ec7416c8a997d45d6a7ab84",
            "d791a3986d6d4efe8cdc1bc9bdf8ec7e",
            "b2555821492b49eeadf9dee26a3cb080",
            "c3f307afee71481187deca4420c5dbf6",
            "a9288bbe84954479ada49d97973cbaae",
            "fda45508b02b4a6f80cf622e65135165",
            "3e11010f5bc24df6b424d3fca9336e81",
            "5ea965cd3db64914b681a90543fd8e1d",
            "e4e4104796f74c8aa212b0b74cd986d2",
            "d5ca5de9ea924687be8af9408ccfaef4",
            "9589377a0e214cc285c114b15c0f9ca9",
            "f8d29194bf0145af91ac9e1e1a0393d6",
            "723ecce807b1472582d433de14da4d55",
            "41a8ee4a2e714dae87de52c3fae9c6ad",
            "9485959cd4e940328a43320e972dcdf1",
            "54f7d29367c449c1936f943c31c9c257",
            "3c409bdc76e04157a42272219012a868",
            "528cf4447d0d46f6b8a4eaaa8688f0ba",
            "85fa2b709ea74165a01ce33871e1ad06",
            "b116ea69dfdc4fdb8a11242f2aa8e0d9",
            "19b7cba32b2b4cddba4e80f442385d01",
            "93b354eb8fca4051a15aba04c3c16b9a",
            "67b43a2ec2ba4603b9ffe20a05ee8edd",
            "48769a45d5644be2aa72a461b6c5f08b",
            "1e02b6785d98430f84d77640927b41ce",
            "2894e27ebf874d8185beff8fb6fcd6b6",
            "8af6028004f6485d807e5038e22e5db8",
            "42e1d11462794cb88ce54d0e8cfda63c",
            "5ec73c3446204db8956f8defad5991b5",
            "4ebece4e87874e14b87c034eb09910ba",
            "c0d18d792afb4e74bb59afcf715e5cd7",
            "bf80d23a81a146f89140da7b7c4147f1",
            "67dcc7ff53a546baa135d192e8b2bcad",
            "d3661515f9ee4a24ae69fa453b8fa5b1",
            "c5c8ac03b16c4833bf6f67083aa3de83",
            "b050369328c6416eb4fcbaef88164bd9",
            "330c5eb1750448c59abc71fa42339b0b",
            "6d5b2b649c93407993c09a2f5e618f3a",
            "16b3cfd5b14043e3be83027d708bc242",
            "a7a267b0c7994bf69506faf2286b4be1",
            "fb34f1499ec24922a5514fcc8ce48c07",
            "a77e5cf994f84bf0a1e6e95d2473c029",
            "fb1b05834fe644c3a4d99fbfd3f9f1ca",
            "cc5b7e8abfeb4f619bf5c06f223457c9",
            "4f504971ba4d438c802a620a98570f40",
            "27eebebb1e0e4a9f99fc2132c10a381c",
            "bbd9b519c0b14a33bc95956ef133ca9f",
            "80e256fd96734333a555c0a3ee50f570",
            "647241abb492418d95bd137d5b04664d",
            "f18e7744e0af48ce8f9a20998f0ea248"
          ]
        },
        "id": "2lY8gS3M0Ny3",
        "outputId": "580bdbee-103e-42b9-e571-df6cbf7ef59b"
      },
      "source": [
        "from transformers import RobertaTokenizerFast\n",
        "\n",
        "from prepare_data import maybe_split\n",
        "from featurize import featurize_files\n",
        "\n",
        "maybe_split(\n",
        "    input_file=data_file,\n",
        "    output_dir=data_dir,\n",
        "    dev_size=0.1,\n",
        "    test_size=0.2,\n",
        "    random_state=42,\n",
        "    overwrite=True\n",
        ")\n",
        "\n",
        "splits = [\"train\", \"dev\", \"test\"]\n",
        "tokenizer = RobertaTokenizerFast.from_pretrained(model_name)\n",
        "split_paths = [data_dir.joinpath(f\"{split}.csv\") for split in splits]\n",
        "featurize_files(\n",
        "    tokenizer=tokenizer,\n",
        "    files=split_paths,\n",
        "    output_dir=data_dir,\n",
        "    overwrite=True\n",
        ")"
      ],
      "execution_count": 11,
      "outputs": [
        {
          "output_type": "stream",
          "name": "stdout",
          "text": [
            "Saved split to /content/newtral_technical_test/data/train.csv\n",
            "Saved split to /content/newtral_technical_test/data/dev.csv\n",
            "Saved split to /content/newtral_technical_test/data/test.csv\n"
          ]
        },
        {
          "output_type": "display_data",
          "data": {
            "application/vnd.jupyter.widget-view+json": {
              "model_id": "65cb1e78a41f41d39d234b7a103ba8a5",
              "version_minor": 0,
              "version_major": 2
            },
            "text/plain": [
              "Downloading:   0%|          | 0.00/835k [00:00<?, ?B/s]"
            ]
          },
          "metadata": {}
        },
        {
          "output_type": "display_data",
          "data": {
            "application/vnd.jupyter.widget-view+json": {
              "model_id": "3e11010f5bc24df6b424d3fca9336e81",
              "version_minor": 0,
              "version_major": 2
            },
            "text/plain": [
              "Downloading:   0%|          | 0.00/502k [00:00<?, ?B/s]"
            ]
          },
          "metadata": {}
        },
        {
          "output_type": "display_data",
          "data": {
            "application/vnd.jupyter.widget-view+json": {
              "model_id": "528cf4447d0d46f6b8a4eaaa8688f0ba",
              "version_minor": 0,
              "version_major": 2
            },
            "text/plain": [
              "Downloading:   0%|          | 0.00/1.40M [00:00<?, ?B/s]"
            ]
          },
          "metadata": {}
        },
        {
          "output_type": "display_data",
          "data": {
            "application/vnd.jupyter.widget-view+json": {
              "model_id": "5ec73c3446204db8956f8defad5991b5",
              "version_minor": 0,
              "version_major": 2
            },
            "text/plain": [
              "Downloading:   0%|          | 0.00/239 [00:00<?, ?B/s]"
            ]
          },
          "metadata": {}
        },
        {
          "output_type": "display_data",
          "data": {
            "application/vnd.jupyter.widget-view+json": {
              "model_id": "a7a267b0c7994bf69506faf2286b4be1",
              "version_minor": 0,
              "version_major": 2
            },
            "text/plain": [
              "Downloading:   0%|          | 0.00/292 [00:00<?, ?B/s]"
            ]
          },
          "metadata": {}
        },
        {
          "output_type": "stream",
          "name": "stdout",
          "text": [
            "Creating features for /content/newtral_technical_test/data/train.csv\n"
          ]
        },
        {
          "output_type": "stream",
          "name": "stderr",
          "text": [
            "/usr/local/lib/python3.7/dist-packages/transformers/tokenization_utils_base.py:2227: UserWarning: `max_length` is ignored when `padding`=`True`.\n",
            "  warnings.warn(\"`max_length` is ignored when `padding`=`True`.\")\n"
          ]
        },
        {
          "output_type": "stream",
          "name": "stdout",
          "text": [
            "Saving features to /content/newtral_technical_test/data/cached_train.csv_RobertaTokenizerFast\n",
            "Creating features for /content/newtral_technical_test/data/dev.csv\n",
            "Saving features to /content/newtral_technical_test/data/cached_dev.csv_RobertaTokenizerFast\n",
            "Creating features for /content/newtral_technical_test/data/test.csv\n",
            "Saving features to /content/newtral_technical_test/data/cached_test.csv_RobertaTokenizerFast\n"
          ]
        }
      ]
    },
    {
      "cell_type": "markdown",
      "metadata": {
        "id": "PvoBWrNr5moT"
      },
      "source": [
        "# Model training\n",
        "\n",
        "---\n",
        "\n",
        "__Disclaimer__: Due to Google Colab restrictions, the whole hyper-parameter/train procedure is slow and the kernel disconnects. To perform it correctly, it requires saving and restoring the state. To avoid this, we will depict the process here, but do the training offline.\n",
        "\n",
        "---\n",
        "\n",
        "Next, we want to train the model on the featurized dataset created above. To get the best out of our model we will perform some hyper-parameter tuning, `hf Trainer` class already supports this, we just have to setup the parameters to search for ([SOURCE CODE](https://github.com/geblanco/newtral_technical_test/blob/master/src/hypersearch.py)).\n",
        "\n",
        "We will tune the following hyper-parameters:\n",
        "- `learning_rate`: Between `1e-4 and 1e-2`\n",
        "- `num_train_epochs`: Between `1` and `5`\n",
        "- `per_device_train_batch_size`: In the range `[4, 8, 16, 32]`\n",
        "- `gradient_accumulation_steps`: Between `1` and `2`\n",
        "\n",
        "The [training script](https://github.com/geblanco/newtral_technical_test/blob/master/src/modeling.py) does exactly this. In essence, it will try each parameter, train the model, evaluate it on the development set and repeat. After the process is completed, we retrieve the best model and save the winning parameters to [config.yaml](https://github.com/geblanco/newtral_technical_test/blob/master/config.yaml).\n",
        "\n",
        "When training models that depend upon randomly initialized parameters, we must take into account that the results can be hugely influenced by that specific initialization and other initializations perform poorly. In other words, it is a spurious result and hence, not representative of the models real performance. To overcome this, we will report the results averaged across `n` different models, each one trained with the same hyper-parameters, but different initialization, that is, changing the seed for each training (also, saving the seed of the best model aids in reproducibility later). In this case, we will fix `n = 10`.\n",
        "\n",
        "This procedure can be launched locally by issueing:\n",
        "```bash\n",
        "python src/modeling.py data --output_dir models --hypersearch validation_steps=10\n",
        "```\n",
        "\n",
        "Summarizing, it will do:\n",
        "- search the best hyper-parameters.\n",
        "- train 10 different models with the best parameters.\n",
        "- save the best out of those 10 models."
      ]
    },
    {
      "cell_type": "markdown",
      "metadata": {
        "id": "C4zzGeg_Em0W"
      },
      "source": [
        "# Model evaluation\n",
        "\n",
        "We will evaluate the model with the test dataset and measure global, micro and macro accuracy, global and per class f1 score, precision and recal for each class."
      ]
    },
    {
      "cell_type": "code",
      "metadata": {
        "id": "DN6t4zJ8Feod"
      },
      "source": [
        "# first, some imports\n",
        "import yaml\n",
        "import json\n",
        "import torch\n",
        "import warnings\n",
        "import argparse\n",
        "\n",
        "from sklearn.metrics import (\n",
        "    f1_score,\n",
        "    accuracy_score,\n",
        "    classification_report,\n",
        ")\n",
        "from transformers import (\n",
        "    Trainer,\n",
        "    TrainingArguments,\n",
        "    RobertaTokenizerFast,\n",
        "    RobertaForSequenceClassification,\n",
        ")\n",
        "\n",
        "from data_classes import FactsDataset\n",
        "from modeling import compute_metrics"
      ],
      "execution_count": 12,
      "outputs": []
    },
    {
      "cell_type": "code",
      "metadata": {
        "id": "acGH-QR58H51"
      },
      "source": [
        "# utility function to load featurized dataset\n",
        "def load_dataset(file_path):\n",
        "    data_dict = torch.load(file_path)\n",
        "    dataset = FactsDataset(\n",
        "        features=data_dict[\"features\"],\n",
        "        labels=data_dict[\"labels\"]\n",
        "    )\n",
        "    return dataset"
      ],
      "execution_count": 13,
      "outputs": []
    },
    {
      "cell_type": "code",
      "metadata": {
        "colab": {
          "base_uri": "https://localhost:8080/",
          "height": 454
        },
        "id": "hIOF_rWu7wea",
        "outputId": "364dcc45-9fb4-4b4c-afb9-ce2ef98a52fb"
      },
      "source": [
        "train_dataset = load_dataset(data_dir.joinpath(\"cached_train.csv_RobertaTokenizerFast\"))\n",
        "dev_dataset = load_dataset(data_dir.joinpath(\"cached_dev.csv_RobertaTokenizerFast\"))\n",
        "test_dataset = load_dataset(data_dir.joinpath(\"cached_test.csv_RobertaTokenizerFast\"))\n",
        "\n",
        "train_params = yaml.safe_load(open(\"./config.yaml\", \"r\"))[\"params\"]\n",
        "model_path = models_dir.joinpath(model_name)\n",
        "model = RobertaForSequenceClassification.from_pretrained(model_path).to(\"cuda:0\")\n",
        "training_args = TrainingArguments(\n",
        "    **train_params,\n",
        "    output_dir=models_dir,\n",
        "    save_strategy=\"no\",\n",
        "    evaluation_strategy=\"no\",\n",
        ")\n",
        "\n",
        "trainer = Trainer(\n",
        "    model=model,\n",
        "    args=training_args,\n",
        "    train_dataset=train_dataset,\n",
        "    eval_dataset=dev_dataset,\n",
        "    compute_metrics=compute_metrics,\n",
        ")\n",
        "# evaluate the model\n",
        "print(\"Evaluating model...\")\n",
        "model_path = models_dir.joinpath(model_name)\n",
        "preds = trainer.predict(test_dataset)\n",
        "compute_metrics(preds, print_results=True)\n",
        "print(json.dumps(preds.metrics, indent=2) + \"\\n\")"
      ],
      "execution_count": 14,
      "outputs": [
        {
          "output_type": "stream",
          "name": "stderr",
          "text": [
            "***** Running Prediction *****\n",
            "  Num examples = 1000\n",
            "  Batch size = 8\n"
          ]
        },
        {
          "output_type": "stream",
          "name": "stdout",
          "text": [
            "Evaluating model...\n"
          ]
        },
        {
          "output_type": "display_data",
          "data": {
            "text/html": [
              "\n",
              "    <div>\n",
              "      \n",
              "      <progress value='125' max='125' style='width:300px; height:20px; vertical-align: middle;'></progress>\n",
              "      [125/125 00:18]\n",
              "    </div>\n",
              "    "
            ],
            "text/plain": [
              "<IPython.core.display.HTML object>"
            ]
          },
          "metadata": {}
        },
        {
          "output_type": "stream",
          "name": "stdout",
          "text": [
            "              precision    recall  f1-score   support\n",
            "\n",
            "           0       0.99      0.99      0.99       925\n",
            "           1       0.92      0.91      0.91        75\n",
            "\n",
            "    accuracy                           0.99      1000\n",
            "   macro avg       0.96      0.95      0.95      1000\n",
            "weighted avg       0.99      0.99      0.99      1000\n",
            "\n",
            "{\n",
            "  \"test_loss\": 0.03965435177087784,\n",
            "  \"test_acc\": 0.987,\n",
            "  \"test_f1\": 0.912751677852349,\n",
            "  \"test_macro\": 0.9528642235831167,\n",
            "  \"test_micro\": 0.987,\n",
            "  \"test_runtime\": 18.4537,\n",
            "  \"test_samples_per_second\": 54.19,\n",
            "  \"test_steps_per_second\": 6.774\n",
            "}\n",
            "\n"
          ]
        }
      ]
    },
    {
      "cell_type": "markdown",
      "metadata": {
        "id": "jhv9H6JZJwkp"
      },
      "source": [
        "# Interpretation of results\n",
        "\n",
        "Looking solely at accuracy tells us that the model performs pretty well (`98.7%`), but as we have a very unbalanced dataset, it is not very reliable. Instead, we should probably look at global f1 score (`~ 0.91`), that balances precision-recall. Though it is good, there is still room for improvement.\n",
        "\n",
        "Also, micro and macro accuracy tell us two things: taking into account how much examples of each class there are, the model performs reasonably well, but the metric is dominated by one of the classes. As we don't know the risk of incorrecly classifying an example, is difficult to asses the cost of putting this model to production.\n",
        "\n",
        "Digging deeper on each class' performance, the model performs very well on unverifiable facts (class 0, `f1 = 0.99`), but is definitely improvable on verifiable facts (class 1, `f1 = 0.91`), in this case, it is failing to identify them (low recall on class 1), misclasifying them as class 0 examples. This could be due to the model failing to capture meaningful enough features for each class' examples and because there are so few examples of verifiable facts. The model is struggling to learn them correctly and more examples would probably help."
      ]
    },
    {
      "cell_type": "markdown",
      "metadata": {
        "id": "L7PKm29GLGnZ"
      },
      "source": [
        "# Error analysis\n",
        "\n",
        "We will extract predictions from the test set and see some correct and incorrectly classified examples both for class 1 and 0."
      ]
    },
    {
      "cell_type": "code",
      "metadata": {
        "colab": {
          "base_uri": "https://localhost:8080/"
        },
        "id": "0jM-n3FJWl0x",
        "outputId": "e477d670-bc27-4326-d8f3-7666fb1b8fd1"
      },
      "source": [
        "import nltk\n",
        "import random\n",
        "import numpy as np\n",
        "import pandas as pd\n",
        "\n",
        "nltk.download('punkt')\n",
        "\n",
        "from nltk.tokenize import word_tokenize\n",
        "from transformers import pipeline, RobertaForSequenceClassification\n",
        "\n",
        "test_data = pd.read_csv(data_dir.joinpath(\"test.csv\"))\n",
        "tokenizer = RobertaTokenizerFast.from_pretrained(\"bertin-project/bertin-roberta-base-spanish\")\n",
        "\n",
        "pipe = pipeline(\"text-classification\", model=model, tokenizer=tokenizer, device=0)\n",
        "texts, labels = data[\"text\"].values.tolist(), data[\"claim\"].values.tolist()\n",
        "\n",
        "preds = pipe(texts)\n",
        "pred_labels = [int(l[\"label\"].split(\"_\")[-1]) for l in preds]"
      ],
      "execution_count": 15,
      "outputs": [
        {
          "output_type": "stream",
          "name": "stdout",
          "text": [
            "[nltk_data] Downloading package punkt to /root/nltk_data...\n",
            "[nltk_data]   Unzipping tokenizers/punkt.zip.\n"
          ]
        },
        {
          "output_type": "stream",
          "name": "stderr",
          "text": [
            "loading file https://huggingface.co/bertin-project/bertin-roberta-base-spanish/resolve/main/vocab.json from cache at /root/.cache/huggingface/transformers/f47efb87887425ef9a4ef795bfaa907d57ac9a650d733c7ca621b9eced3235e8.a80f232f572026f92499b14999a8ed4e044e04cf3d01b9f2be298c98e78e8498\n",
            "loading file https://huggingface.co/bertin-project/bertin-roberta-base-spanish/resolve/main/merges.txt from cache at /root/.cache/huggingface/transformers/aba9e0895dea47dd4208a36012ffd3eb21eb4c5f7ce0be6547afb37cdd4ddef4.a0dfc41f9d0f03a56ba7a5401d770f6e43071045a0bd79073380d408d17a0d92\n",
            "loading file https://huggingface.co/bertin-project/bertin-roberta-base-spanish/resolve/main/tokenizer.json from cache at /root/.cache/huggingface/transformers/baad57d0f574d3e660cafb14601d0ecebe83f25071d59f3e51d225d75285b773.2a5dc806edc00ab3a329cb22b9973596ca75b24ba0e5e4963bf1308de7237a3d\n",
            "loading file https://huggingface.co/bertin-project/bertin-roberta-base-spanish/resolve/main/added_tokens.json from cache at None\n",
            "loading file https://huggingface.co/bertin-project/bertin-roberta-base-spanish/resolve/main/special_tokens_map.json from cache at /root/.cache/huggingface/transformers/68d1fdfe72fdcac403d8f363239c379d8125162f50a954030c4476982f88d69e.a11ebb04664c067c8fe5ef8f8068b0f721263414a26058692f7b2e4ba2a1b342\n",
            "loading file https://huggingface.co/bertin-project/bertin-roberta-base-spanish/resolve/main/tokenizer_config.json from cache at /root/.cache/huggingface/transformers/72bf61c243630a112d8fa8c8d9162f1a5e01fab0602d2f2a7792cecdc0a4986f.9f7ac4246b492dfa7c21beb5233deec8aef46153ec25ac5258ac5e2ae82dfa89\n",
            "Disabling tokenizer parallelism, we're using DataLoader multithreading already\n"
          ]
        }
      ]
    },
    {
      "cell_type": "code",
      "metadata": {
        "id": "ckux1XCde2-7"
      },
      "source": [
        "def pretty_print(sentence, max_len=100):\n",
        "    text = \"\"\n",
        "    curr_sentence = \"\"\n",
        "    sentences = []\n",
        "    tokens = word_tokenize(sentence)\n",
        "    for idx, tok in enumerate(tokens):\n",
        "        if len(curr_sentence) + len(tok) > max_len:\n",
        "            sentences.append(curr_sentence)\n",
        "            curr_sentence = \"\"\n",
        "        \n",
        "        curr_sentence += tok + \" \"\n",
        "        if idx == len(tokens) -1:\n",
        "            sentences.append(curr_sentence)\n",
        "\n",
        "    return \"\\n  \".join(sentences)\n",
        "\n",
        "def print_class(correct, incorrect, class_name, num_samples=5):\n",
        "    print(f\"\\nExamples of {class_name}\")\n",
        "    print(\"=\" * 15)\n",
        "    for samples, name in [(correct, \"correct\"), (incorrect, \"incorrect\")]:\n",
        "        # sample 5 random examples\n",
        "        indices = random.sample(range(len(samples)), k=min(num_samples, len(samples)))\n",
        "        print(name)\n",
        "        for sent in np.array(samples)[indices]:\n",
        "            print(pretty_print(f\"- {sent}\"))\n",
        "\n",
        "        print(\"\\nStats:\")\n",
        "        lens = np.array([len(sent) for sent in samples])\n",
        "        print(f\"Mean sentence length: {round(lens.mean(), 2)}\")\n",
        "        print(f\"Std sentence length: {round(lens.std(), 2)}\")\n",
        "        print(f\"Amount of sentences: {len(samples)}\")\n",
        "        print()"
      ],
      "execution_count": 16,
      "outputs": []
    },
    {
      "cell_type": "code",
      "metadata": {
        "id": "HQDOo4ojum68"
      },
      "source": [
        "# correct examples of class 1\n",
        "correct_class_1 = []\n",
        "# examples of class 1 missclassified as class 0\n",
        "incorrect_class_1 = []\n",
        "\n",
        "# correct examples of class 0\n",
        "correct_class_0 = []\n",
        "# examples of class 0 missclassified as class 1\n",
        "incorrect_class_0 = []\n",
        "\n",
        "for sent, pred_label, label in zip(texts, pred_labels, labels):\n",
        "    correct = label == pred_label\n",
        "    if label and not correct:\n",
        "        incorrect_class_1.append(sent)\n",
        "    elif label and correct:\n",
        "        correct_class_1.append(sent)\n",
        "    elif not label and not correct:\n",
        "        incorrect_class_0.append(sent)\n",
        "    else:\n",
        "        correct_class_0.append(sent)"
      ],
      "execution_count": 17,
      "outputs": []
    },
    {
      "cell_type": "code",
      "metadata": {
        "colab": {
          "base_uri": "https://localhost:8080/"
        },
        "id": "aAeGggoabOlu",
        "outputId": "4f2a9bd1-a7a2-4bee-86d7-0f2f64c5a6fe"
      },
      "source": [
        "print_class(correct_class_1, incorrect_class_1, \"class 1\")\n",
        "print_class(correct_class_0, incorrect_class_0, \"class 0\")"
      ],
      "execution_count": 18,
      "outputs": [
        {
          "output_type": "stream",
          "name": "stdout",
          "text": [
            "\n",
            "Examples of class 1\n",
            "===============\n",
            "correct\n",
            "- No ha convocado ni siquiera las comunidades autónomas . \n",
            "- La llegada este mes de 17 millones de dosis , ha supuesto un salto cuantitativo que el sistema ha \n",
            "  sabido absorber . \n",
            "- Yo no conozco ningún otro país en el que la oposición se dedique a deteriorar y atacar la \n",
            "  confianza en el país , en los medios internacionales en el Parlamento Europeo . \n",
            "- En Cataluña estamos alrededor de 450 personas que están ingresadas en el hospital y sí que se han \n",
            "  reducido respecto a ayer el número de personas que están en la UCI alrededor de 140 . \n",
            "- La primera es que en España ya ocurre y en el año 2015 el Comité Olímpico Internacional ya lo dijo \n",
            "  con mucha claridad que las mujeres participan en las competiciones de mujeres y los hombres \n",
            "  participan en las competiciones de hombres . \n",
            "\n",
            "Stats:\n",
            "Mean sentence length: 171.24\n",
            "Std sentence length: 95.17\n",
            "Amount of sentences: 970\n",
            "\n",
            "incorrect\n",
            "- Además hemos hecho una formación profesional que ha incorporado 64000 plazas adicionales . \n",
            "- Bueno , date cuenta de que esto es casi un siglo de conflicto y que en las últimas décadas y muy \n",
            "  especialmente desde que Zapatero fue presidente , se ha agravado en el momento en el que dijo que \n",
            "  aprobaría desde desde Madrid lo que se dijera en Cataluña fuera cual fuera el resultado , y en el \n",
            "  momento en el que estamos aceptando como están expulsando a tantos catalanes de Cataluña de muchas \n",
            "  maneras torticera . \n",
            "- Pues enseguida , en el próximo recibo puesto que entra en vigor mañana mismo a partir de mañana \n",
            "  deja de aplicarse el IVA al 21 por ciento , pasa a aplicarse al 10 y deja de aplicarse a partir del \n",
            "  1 de julio , el 7 porciento de producción del impuesto sobre la producción eléctrica . \n",
            "- Habrá 20 millones para la inversión en la industria agroalimentaria , 10 para pymes industriales , \n",
            "  también para grandes empresas y también para el fomento de la empresa digital . \n",
            "- Necesitamos ver la interoperabilidad del certificado y por lo tanto ahora mismo hay diez destinos \n",
            "  en España que nos han solicitado participar en estos proyectos piloto que creo que a partir de la \n",
            "  semana que viene ya se van a empezar a desarrollar . \n",
            "\n",
            "Stats:\n",
            "Mean sentence length: 181.25\n",
            "Std sentence length: 116.67\n",
            "Amount of sentences: 111\n",
            "\n",
            "\n",
            "Examples of class 0\n",
            "===============\n",
            "correct\n",
            "- Basarte . \n",
            "- Creo que somos parte . \n",
            "- Si es que estaba yo pensando en las vacaciones y me \n",
            "- Tú pones , tu enciende la play y la primera descarga adrenalina es a los diez segundos . \n",
            "- Nos damos una tregua de cinco años , no solamente seis meses . \n",
            "\n",
            "Stats:\n",
            "Mean sentence length: 103.72\n",
            "Std sentence length: 86.21\n",
            "Amount of sentences: 13834\n",
            "\n",
            "incorrect\n",
            "- Por fin , después de más de diez años en los que estamos , hemos estado invirtiendo demasiado poco \n",
            "  en nuestras infraestructuras en nuestros colegios en nuestros hospitales . \n",
            "- Hace un momento 130000 personas menos paradas en España . \n",
            "- Pero esto suele ocurrir y al mismo tiempo nos hemos encontrado como respecto a los cálculos que \n",
            "  nosotros habíamos hecho y que teníamos identificados con cierta información de cruces de bases de \n",
            "  datos , que ha habido un porcentaje muy alto de personas y en este caso de unidades de convivencia \n",
            "  que es como se define el ingreso mínimo vital que no nos han solicitado . \n",
            "- Fíjese , la convención no es que ya empiece a partir del día de ayer que Pablo Casado la presentó \n",
            "  sino que lleva ya varias semanas en la que Pablo Casado ha convocado a la sociedad civil a unas \n",
            "  mesas abiertas en el caso de la educación en el caso de los fondos europeos en las que ha \n",
            "  participado la sociedad civil y ya se están recogiendo ideas . \n",
            "- Pero es que en la historia de este país los indultos se han dado a gente que nunca ha pedido \n",
            "  perdón a nadie incluso los que lo tenemos . \n",
            "\n",
            "Stats:\n",
            "Mean sentence length: 134.31\n",
            "Std sentence length: 88.02\n",
            "Amount of sentences: 80\n",
            "\n"
          ]
        }
      ]
    },
    {
      "cell_type": "markdown",
      "metadata": {
        "id": "Ui2QXtya1mjy"
      },
      "source": [
        "# Verifiable facts:\n",
        "\n",
        "__Correct:__\n",
        "\n",
        "- Seem to represent facts with numeric evidences, all sentences include the subject or item of the action.\n",
        "- Sentences refer to facts, one speaker outlining a fact, not directly speaking to other person.\n",
        "- A human could identify what the sentence is referring to.\n",
        "\n",
        "__Incorrect:__\n",
        "\n",
        "- Although following the same structure as correctly classified verifiable facts (subject/item included, speaker announcing a fact), in these samples, either the relevant part of the sentence is not the numeric evidence or the sentence is too big.\n",
        "\n",
        "# Unverifiable facts:\n",
        "\n",
        "__Correct:__\n",
        "\n",
        "- Seem to be short or chopped sentences, personal opinions, sentences whose subject of the action is not present or direct questions from the speaker to other parties.\n",
        "- Reading some of those sentences, don't make sense to me.\n",
        "\n",
        "__Incorrect:__\n",
        "\n",
        "- It is remarkable that correctly classified unverifiable facts are shorter than the rest (~70 chars less in average, with a smaller deviation), this might indicate that the model is learning to use the length of the sentence as a meaningful feature to decide whether an example is verifiable or not. In other words, if the sentence is big, it tends to classify it as verifiable, failing to classify some class 0 examples.\n",
        "\n",
        "# Conclusions\n",
        "\n",
        "At sight of these errors and results, I would conclude that the model is heavily relying on making sense out the text, the length of the given sentence, whether or not there are numeric symbols (be it written or digits) and detecting the subject of the action inside the sentence. When some of these features are misleading, the model fails."
      ]
    },
    {
      "cell_type": "markdown",
      "metadata": {
        "id": "mqG3sIlBHwig"
      },
      "source": [
        ""
      ]
    },
    {
      "cell_type": "markdown",
      "metadata": {
        "id": "gtLEBx4_LJMe"
      },
      "source": [
        "# Final conclusions and further study\n",
        "\n",
        "We were given the task of fine-tuning a BERT based model on a collection entailing verifiable and unverifiable facts in spanish. Being the task in spanish we employed the novel model BERTin, based on the RoBERTa variant of BERT. After searching for the best hyper-parameters and validating the results are not spurious, we obtain a model performing reasonably well.\n",
        "\n",
        "Having a baseline to compare our model to would give us better insights on how well the model performs, but as the task is not standard, we could have just created one. Also, a future step in this direction is testing the model in other collections.\n",
        "\n",
        "With the proposed solution we see that there is still some room for improvement, following are some ideas that could enhance the model's performance:\n",
        "- Get more features: We could try extracting more features from each sentence (syntactic, semantic analysis) and feeding that to the model along with each sentence.\n",
        "- The dataset is heavily unbalanced, augmenting the data could improve the performance. We could gather more news or train a generative model (gpt-2...)\n",
        "- As the data in spanish is scarce, we could train another model in English with a similar task and transfer learning the weights to our model, though it would require an extra effort to clean the new dataset and adapt the weights to the spanish embedding layer.\n",
        "- Transfer learning from other collection, we could train with a similar collection (i.e.: [FakeNewsCorpusSpanish](https://github.com/jpposadas/FakeNewsCorpusSpanish)) and later train with the given collection, though this won't work if the collection are too different.\n",
        "- We could test other architectures or models, i.e.: [FakeBERT](https://link.springer.com/article/10.1007/s11042-020-10183-2) implements a BERT+LSTM/CNN, though it only performs slightly better that us in accuracy (`98.90` vs `98.7`, it's other collection, but similar task)"
      ]
    }
  ]
}